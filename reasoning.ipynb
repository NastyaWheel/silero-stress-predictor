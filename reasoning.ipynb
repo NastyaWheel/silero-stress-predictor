{
 "cells": [
  {
   "cell_type": "code",
   "execution_count": 96,
   "metadata": {
    "_cell_guid": "b1076dfc-b9ad-4769-8c92-a6c4dae69d19",
    "_uuid": "8f2839f25d086af736a60e9eeb907d3b93b6e0e5",
    "execution": {
     "iopub.execute_input": "2025-03-24T14:24:36.173631Z",
     "iopub.status.busy": "2025-03-24T14:24:36.173279Z",
     "iopub.status.idle": "2025-03-24T14:24:36.178538Z",
     "shell.execute_reply": "2025-03-24T14:24:36.177620Z",
     "shell.execute_reply.started": "2025-03-24T14:24:36.173603Z"
    },
    "trusted": true
   },
   "outputs": [],
   "source": [
    "import os\n",
    "import math\n",
    "import pandas as pd\n",
    "import numpy as np\n",
    "\n",
    "from sklearn.model_selection import train_test_split\n",
    "\n",
    "import torch\n",
    "from torch.nn.utils.rnn import pad_sequence\n",
    "import torch.nn as nn\n",
    "import torch.nn.functional as F\n",
    "from torch.utils.data import Dataset\n",
    "\n",
    "from tqdm import tqdm\n",
    "import matplotlib.pyplot as plt\n",
    "from sklearn.calibration import calibration_curve"
   ]
  },
  {
   "cell_type": "markdown",
   "metadata": {},
   "source": [
    "## Анализ и предобработка"
   ]
  },
  {
   "cell_type": "markdown",
   "metadata": {},
   "source": [
    "Проанализируем, что представляют из себя данные для обучения и тестирования модели."
   ]
  },
  {
   "cell_type": "code",
   "execution_count": 2,
   "metadata": {
    "execution": {
     "iopub.execute_input": "2025-03-24T10:27:26.857584Z",
     "iopub.status.busy": "2025-03-24T10:27:26.857110Z",
     "iopub.status.idle": "2025-03-24T10:27:27.069751Z",
     "shell.execute_reply": "2025-03-24T10:27:27.068984Z",
     "shell.execute_reply.started": "2025-03-24T10:27:26.857553Z"
    },
    "trusted": true
   },
   "outputs": [
    {
     "data": {
      "text/html": [
       "<div>\n",
       "<style scoped>\n",
       "    .dataframe tbody tr th:only-of-type {\n",
       "        vertical-align: middle;\n",
       "    }\n",
       "\n",
       "    .dataframe tbody tr th {\n",
       "        vertical-align: top;\n",
       "    }\n",
       "\n",
       "    .dataframe thead th {\n",
       "        text-align: right;\n",
       "    }\n",
       "</style>\n",
       "<table border=\"1\" class=\"dataframe\">\n",
       "  <thead>\n",
       "    <tr style=\"text-align: right;\">\n",
       "      <th></th>\n",
       "      <th>id</th>\n",
       "      <th>word</th>\n",
       "      <th>stress</th>\n",
       "      <th>num_syllables</th>\n",
       "      <th>lemma</th>\n",
       "    </tr>\n",
       "  </thead>\n",
       "  <tbody>\n",
       "    <tr>\n",
       "      <th>0</th>\n",
       "      <td>0</td>\n",
       "      <td>румяной</td>\n",
       "      <td>2</td>\n",
       "      <td>3</td>\n",
       "      <td>румяный</td>\n",
       "    </tr>\n",
       "    <tr>\n",
       "      <th>1</th>\n",
       "      <td>1</td>\n",
       "      <td>цифрами</td>\n",
       "      <td>1</td>\n",
       "      <td>3</td>\n",
       "      <td>цифра</td>\n",
       "    </tr>\n",
       "    <tr>\n",
       "      <th>2</th>\n",
       "      <td>2</td>\n",
       "      <td>слугами</td>\n",
       "      <td>1</td>\n",
       "      <td>3</td>\n",
       "      <td>слуга</td>\n",
       "    </tr>\n",
       "    <tr>\n",
       "      <th>3</th>\n",
       "      <td>3</td>\n",
       "      <td>выбирает</td>\n",
       "      <td>3</td>\n",
       "      <td>4</td>\n",
       "      <td>выбирать</td>\n",
       "    </tr>\n",
       "    <tr>\n",
       "      <th>4</th>\n",
       "      <td>4</td>\n",
       "      <td>управдом</td>\n",
       "      <td>3</td>\n",
       "      <td>3</td>\n",
       "      <td>управдом</td>\n",
       "    </tr>\n",
       "  </tbody>\n",
       "</table>\n",
       "</div>"
      ],
      "text/plain": [
       "   id      word  stress  num_syllables     lemma\n",
       "0   0   румяной       2              3   румяный\n",
       "1   1   цифрами       1              3     цифра\n",
       "2   2   слугами       1              3     слуга\n",
       "3   3  выбирает       3              4  выбирать\n",
       "4   4  управдом       3              3  управдом"
      ]
     },
     "execution_count": 2,
     "metadata": {},
     "output_type": "execute_result"
    }
   ],
   "source": [
    "train_df = pd.read_csv('/kaggle/input/silero-stress-predictor/train.csv')\n",
    "train_df.head()"
   ]
  },
  {
   "cell_type": "code",
   "execution_count": 3,
   "metadata": {
    "execution": {
     "iopub.execute_input": "2025-03-24T10:27:27.071631Z",
     "iopub.status.busy": "2025-03-24T10:27:27.071356Z",
     "iopub.status.idle": "2025-03-24T10:27:27.080405Z",
     "shell.execute_reply": "2025-03-24T10:27:27.079798Z",
     "shell.execute_reply.started": "2025-03-24T10:27:27.071609Z"
    },
    "trusted": true
   },
   "outputs": [
    {
     "data": {
      "text/plain": [
       "array([2, 1, 3, 4, 5, 6])"
      ]
     },
     "execution_count": 3,
     "metadata": {},
     "output_type": "execute_result"
    }
   ],
   "source": [
    "train_df['stress'].unique()"
   ]
  },
  {
   "cell_type": "code",
   "execution_count": 4,
   "metadata": {
    "execution": {
     "iopub.execute_input": "2025-03-24T10:27:27.081774Z",
     "iopub.status.busy": "2025-03-24T10:27:27.081424Z",
     "iopub.status.idle": "2025-03-24T10:27:27.187442Z",
     "shell.execute_reply": "2025-03-24T10:27:27.186486Z",
     "shell.execute_reply.started": "2025-03-24T10:27:27.081751Z"
    },
    "trusted": true
   },
   "outputs": [
    {
     "data": {
      "text/html": [
       "<div>\n",
       "<style scoped>\n",
       "    .dataframe tbody tr th:only-of-type {\n",
       "        vertical-align: middle;\n",
       "    }\n",
       "\n",
       "    .dataframe tbody tr th {\n",
       "        vertical-align: top;\n",
       "    }\n",
       "\n",
       "    .dataframe thead th {\n",
       "        text-align: right;\n",
       "    }\n",
       "</style>\n",
       "<table border=\"1\" class=\"dataframe\">\n",
       "  <thead>\n",
       "    <tr style=\"text-align: right;\">\n",
       "      <th></th>\n",
       "      <th>id</th>\n",
       "      <th>word</th>\n",
       "      <th>num_syllables</th>\n",
       "      <th>lemma</th>\n",
       "    </tr>\n",
       "  </thead>\n",
       "  <tbody>\n",
       "    <tr>\n",
       "      <th>0</th>\n",
       "      <td>0</td>\n",
       "      <td>эпилепсия</td>\n",
       "      <td>5</td>\n",
       "      <td>эпилепсия</td>\n",
       "    </tr>\n",
       "    <tr>\n",
       "      <th>1</th>\n",
       "      <td>1</td>\n",
       "      <td>относящейся</td>\n",
       "      <td>5</td>\n",
       "      <td>относиться</td>\n",
       "    </tr>\n",
       "    <tr>\n",
       "      <th>2</th>\n",
       "      <td>2</td>\n",
       "      <td>размышлениями</td>\n",
       "      <td>6</td>\n",
       "      <td>размышление</td>\n",
       "    </tr>\n",
       "    <tr>\n",
       "      <th>3</th>\n",
       "      <td>3</td>\n",
       "      <td>модемы</td>\n",
       "      <td>3</td>\n",
       "      <td>модем</td>\n",
       "    </tr>\n",
       "    <tr>\n",
       "      <th>4</th>\n",
       "      <td>4</td>\n",
       "      <td>солнц</td>\n",
       "      <td>1</td>\n",
       "      <td>солнце</td>\n",
       "    </tr>\n",
       "  </tbody>\n",
       "</table>\n",
       "</div>"
      ],
      "text/plain": [
       "   id           word  num_syllables        lemma\n",
       "0   0      эпилепсия              5    эпилепсия\n",
       "1   1    относящейся              5   относиться\n",
       "2   2  размышлениями              6  размышление\n",
       "3   3         модемы              3        модем\n",
       "4   4          солнц              1       солнце"
      ]
     },
     "execution_count": 4,
     "metadata": {},
     "output_type": "execute_result"
    }
   ],
   "source": [
    "test_df = pd.read_csv('/kaggle/input/silero-stress-predictor/test.csv')\n",
    "test_df.head()"
   ]
  },
  {
   "cell_type": "markdown",
   "metadata": {},
   "source": [
    "Выборки отличаются колонкой 'stress', которая служит нашим таргетом и представляет из себя слог от 1 до 6, куда может быть поставлено ударение в слове.\n",
    "\n",
    "Перед тем, как начать работать с данными, проведём анализ данных. Из условия задания нам известно, что не все ударения в датасете являются правильными (специально внесен некоторый шум). Поэтому также проверим наши данные на пропуски и крайние случаи."
   ]
  },
  {
   "cell_type": "code",
   "execution_count": 5,
   "metadata": {
    "execution": {
     "iopub.execute_input": "2025-03-24T10:27:27.189017Z",
     "iopub.status.busy": "2025-03-24T10:27:27.188618Z",
     "iopub.status.idle": "2025-03-24T10:27:27.210815Z",
     "shell.execute_reply": "2025-03-24T10:27:27.209975Z",
     "shell.execute_reply.started": "2025-03-24T10:27:27.188980Z"
    },
    "trusted": true
   },
   "outputs": [
    {
     "data": {
      "text/plain": [
       "id               0\n",
       "word             0\n",
       "stress           0\n",
       "num_syllables    0\n",
       "lemma            0\n",
       "dtype: int64"
      ]
     },
     "execution_count": 5,
     "metadata": {},
     "output_type": "execute_result"
    }
   ],
   "source": [
    "train_df.isna().sum()"
   ]
  },
  {
   "cell_type": "markdown",
   "metadata": {},
   "source": [
    "Прекрасно, пропусков нет.\n",
    "\n",
    "Рассмотрим следующие крайние случаи:\n",
    "1. количество слогов `num_syllables` не соответствует действительному (количеству гласных в слове)\n",
    "2. ударение указывает на слог, которого нет в слове"
   ]
  },
  {
   "cell_type": "code",
   "execution_count": 6,
   "metadata": {
    "execution": {
     "iopub.execute_input": "2025-03-24T10:27:27.212028Z",
     "iopub.status.busy": "2025-03-24T10:27:27.211761Z",
     "iopub.status.idle": "2025-03-24T10:27:27.381253Z",
     "shell.execute_reply": "2025-03-24T10:27:27.380580Z",
     "shell.execute_reply.started": "2025-03-24T10:27:27.212008Z"
    },
    "trusted": true
   },
   "outputs": [],
   "source": [
    "vowels = 'аеёиоуыэюя'\n",
    "\n",
    "def count_vowels(word):\n",
    "    count = 0\n",
    "    for char in word:\n",
    "        if char.lower() in vowels:\n",
    "            count += 1\n",
    "    return count\n",
    "\n",
    "\n",
    "train_df['num_vowels'] = train_df['word'].apply(count_vowels)\n",
    "test_df['num_vowels'] = test_df['word'].apply(count_vowels)"
   ]
  },
  {
   "cell_type": "code",
   "execution_count": 7,
   "metadata": {
    "execution": {
     "iopub.execute_input": "2025-03-24T10:27:27.382221Z",
     "iopub.status.busy": "2025-03-24T10:27:27.382012Z",
     "iopub.status.idle": "2025-03-24T10:27:27.398230Z",
     "shell.execute_reply": "2025-03-24T10:27:27.397442Z",
     "shell.execute_reply.started": "2025-03-24T10:27:27.382203Z"
    },
    "trusted": true
   },
   "outputs": [
    {
     "name": "stdout",
     "output_type": "stream",
     "text": [
      "Наблюдений в train, где указано неверное количество слогов: 0\n",
      "Наблюдений в test, где указано неверное количество слогов: 0\n"
     ]
    }
   ],
   "source": [
    "# 1.\n",
    "\n",
    "bad_vowels_index = train_df[train_df['num_vowels'] != train_df['num_syllables']].index\n",
    "print(f'Наблюдений в train, где указано неверное количество слогов: {len(bad_vowels_index)}')\n",
    "\n",
    "bad_vowels_index = test_df[test_df['num_vowels'] != test_df['num_syllables']].index\n",
    "print(f'Наблюдений в test, где указано неверное количество слогов: {len(bad_vowels_index)}')"
   ]
  },
  {
   "cell_type": "markdown",
   "metadata": {},
   "source": [
    "Так как колонки `num_vowels` и `num_syllables` по своему смыслу, а различий не наблюдается, избавимся от варианта `num_vowels` за ненадобностью."
   ]
  },
  {
   "cell_type": "code",
   "execution_count": 8,
   "metadata": {
    "execution": {
     "iopub.execute_input": "2025-03-24T10:27:27.400581Z",
     "iopub.status.busy": "2025-03-24T10:27:27.400372Z",
     "iopub.status.idle": "2025-03-24T10:27:27.417823Z",
     "shell.execute_reply": "2025-03-24T10:27:27.417189Z",
     "shell.execute_reply.started": "2025-03-24T10:27:27.400562Z"
    },
    "trusted": true
   },
   "outputs": [],
   "source": [
    "train_df.drop('num_vowels', axis=1, inplace=True)\n",
    "test_df.drop('num_vowels', axis=1, inplace=True)"
   ]
  },
  {
   "cell_type": "markdown",
   "metadata": {},
   "source": [
    "Второй крайний случай актуален только для обучающей выборки."
   ]
  },
  {
   "cell_type": "code",
   "execution_count": 9,
   "metadata": {
    "execution": {
     "iopub.execute_input": "2025-03-24T10:27:27.419218Z",
     "iopub.status.busy": "2025-03-24T10:27:27.418897Z",
     "iopub.status.idle": "2025-03-24T10:27:27.433662Z",
     "shell.execute_reply": "2025-03-24T10:27:27.432638Z",
     "shell.execute_reply.started": "2025-03-24T10:27:27.419192Z"
    },
    "trusted": true
   },
   "outputs": [
    {
     "name": "stdout",
     "output_type": "stream",
     "text": [
      "Наблюдений в train, где указано неверное количество слогов: 0\n"
     ]
    }
   ],
   "source": [
    "# 2.\n",
    "\n",
    "bad_stress_index = train_df[train_df['stress'] > train_df['num_syllables']].index\n",
    "print(f'Наблюдений в train, где указано неверное количество слогов: {len(bad_stress_index)}')"
   ]
  },
  {
   "cell_type": "markdown",
   "metadata": {},
   "source": [
    "Это значит, что от шума в данных мы избавиться не можем, так как он полностью обусловен исключительно неправильной постановкой ударения."
   ]
  },
  {
   "cell_type": "markdown",
   "metadata": {},
   "source": [
    "Разделим обучающую выборку на обучающую и валидационную в пропорции 80 на 20, чтобы мы могли валидировать качество модели, прежде чем предсказывать его на тестовой выборке в соревновании. Делить будет по уникальным леммам, чтобы леммы в выборках не пересекались между собой и можно было лучше оценить обучаемость модели."
   ]
  },
  {
   "cell_type": "code",
   "execution_count": 10,
   "metadata": {
    "execution": {
     "iopub.execute_input": "2025-03-24T10:27:27.435223Z",
     "iopub.status.busy": "2025-03-24T10:27:27.434860Z",
     "iopub.status.idle": "2025-03-24T10:27:27.489080Z",
     "shell.execute_reply": "2025-03-24T10:27:27.488406Z",
     "shell.execute_reply.started": "2025-03-24T10:27:27.435188Z"
    },
    "trusted": true
   },
   "outputs": [
    {
     "name": "stdout",
     "output_type": "stream",
     "text": [
      "Train samples: 50468\n",
      "Validation samples: 12970\n"
     ]
    }
   ],
   "source": [
    "lemmas = train_df['lemma'].unique()\n",
    "\n",
    "train_lemmas, val_lemmas = train_test_split(lemmas, test_size=0.2, random_state=1)\n",
    "\n",
    "train_split = train_df[train_df['lemma'].isin(train_lemmas)].reset_index(drop=True)\n",
    "val_split = train_df[train_df['lemma'].isin(val_lemmas)].reset_index(drop=True)\n",
    "\n",
    "print(f\"Train samples: {len(train_split)}\")\n",
    "print(f\"Validation samples: {len(val_split)}\")"
   ]
  },
  {
   "cell_type": "code",
   "execution_count": 11,
   "metadata": {
    "execution": {
     "iopub.execute_input": "2025-03-24T10:27:27.490379Z",
     "iopub.status.busy": "2025-03-24T10:27:27.490004Z",
     "iopub.status.idle": "2025-03-24T10:27:27.510834Z",
     "shell.execute_reply": "2025-03-24T10:27:27.510045Z",
     "shell.execute_reply.started": "2025-03-24T10:27:27.490345Z"
    },
    "trusted": true
   },
   "outputs": [
    {
     "name": "stdout",
     "output_type": "stream",
     "text": [
      "Train lemmas: 18834\n",
      "Val lemmas: 4709 (intersection with train: 0)\n",
      "Test lemmas: 15306 (intersection with train: 6696)\n"
     ]
    }
   ],
   "source": [
    "train_lemmas = set(train_split['lemma'].unique())\n",
    "val_lemmas = set(val_split['lemma'].unique())\n",
    "test_lemmas = set(test_df['lemma'].unique())\n",
    "\n",
    "print(f\"Train lemmas: {len(train_lemmas)}\")\n",
    "print(f\"Val lemmas: {len(val_lemmas)} (intersection with train: {len(train_lemmas & val_lemmas)})\")\n",
    "print(f\"Test lemmas: {len(test_lemmas)} (intersection with train: {len(train_lemmas & test_lemmas)})\")"
   ]
  },
  {
   "cell_type": "markdown",
   "metadata": {},
   "source": [
    "## Загрузка и обработка данных"
   ]
  },
  {
   "cell_type": "markdown",
   "metadata": {},
   "source": [
    "Создадим словарь индексов для символов, который потом будем использовать для кодирования слов. "
   ]
  },
  {
   "cell_type": "code",
   "execution_count": 12,
   "metadata": {
    "execution": {
     "iopub.execute_input": "2025-03-24T10:27:27.511852Z",
     "iopub.status.busy": "2025-03-24T10:27:27.511590Z",
     "iopub.status.idle": "2025-03-24T10:27:27.575565Z",
     "shell.execute_reply": "2025-03-24T10:27:27.574566Z",
     "shell.execute_reply.started": "2025-03-24T10:27:27.511831Z"
    },
    "trusted": true
   },
   "outputs": [
    {
     "name": "stdout",
     "output_type": "stream",
     "text": [
      "Слов, начинающихся с заглавной буквы: 0\n"
     ]
    }
   ],
   "source": [
    "# перед созданием словаря проверяем, что у нас нет сюрпризов в виде заглавных букв\n",
    "\n",
    "mask_train = train_split['word'].str[0].str.isupper()\n",
    "mask_val = val_split['word'].str[0].str.isupper()\n",
    "mask_test = test_df['word'].str[0].str.isupper()\n",
    "\n",
    "uppercase_words_train = train_split[mask_train]\n",
    "uppercase_words_val = val_split[mask_val]\n",
    "uppercase_words_test = test_df[mask_test]\n",
    "\n",
    "total = len(uppercase_words_train) + len(uppercase_words_val) + len(uppercase_words_test)\n",
    "\n",
    "print(f\"Слов, начинающихся с заглавной буквы: {total}\")"
   ]
  },
  {
   "cell_type": "code",
   "execution_count": 13,
   "metadata": {
    "execution": {
     "iopub.execute_input": "2025-03-24T10:27:27.576805Z",
     "iopub.status.busy": "2025-03-24T10:27:27.576471Z",
     "iopub.status.idle": "2025-03-24T10:27:27.582097Z",
     "shell.execute_reply": "2025-03-24T10:27:27.581244Z",
     "shell.execute_reply.started": "2025-03-24T10:27:27.576775Z"
    },
    "trusted": true
   },
   "outputs": [
    {
     "name": "stdout",
     "output_type": "stream",
     "text": [
      "{'-': 1, 'а': 2, 'б': 3, 'в': 4, 'г': 5, 'д': 6, 'е': 7, 'ж': 8, 'з': 9, 'и': 10, 'й': 11, 'к': 12, 'л': 13, 'м': 14, 'н': 15, 'о': 16, 'п': 17, 'р': 18, 'с': 19, 'т': 20, 'у': 21, 'ф': 22, 'х': 23, 'ц': 24, 'ч': 25, 'ш': 26, 'щ': 27, 'ъ': 28, 'ы': 29, 'ь': 30, 'э': 31, 'ю': 32, 'я': 33, 'ё': 34, '<unk>': 35}\n"
     ]
    }
   ],
   "source": [
    "vowels = 'аеёиоуыэюя'\n",
    "consonants = 'бвгджзйклмнпрстфхцчшщ'\n",
    "special_chars = 'ьъ-'\n",
    "\n",
    "alphabet = list(vowels + consonants + special_chars)\n",
    "char2idx = {char: idx + 1 for idx, char in enumerate(sorted(alphabet))}\n",
    "\n",
    "# добавляю на всякий случай, если вдруг в выборке могут встретиться ошибки в виде латинских буквы и т.п.\n",
    "char2idx['<unk>'] = len(char2idx) + 1\n",
    "\n",
    "print(char2idx)"
   ]
  },
  {
   "cell_type": "markdown",
   "metadata": {},
   "source": [
    "Теперь создадим кастомный датасет на основе `torch.utils.data.Dataset` для подготовки входных данных и подачи их в `DataLoader`. Класс будет универсальным и работать как с обучающей, так и с тестовой выборкой.\n",
    "\n",
    "Помимо исходных признаков в виде структуры слова также извлечём дополнительные признаки, которые, возможно, помогут модели показать более хорошее качество на незнакомых ей леммах. Для начала в качестве признака конкатинируем маску гласных, так как только над ними можно ставить ударение."
   ]
  },
  {
   "cell_type": "code",
   "execution_count": null,
   "metadata": {
    "execution": {
     "iopub.execute_input": "2025-03-24T10:27:27.583178Z",
     "iopub.status.busy": "2025-03-24T10:27:27.582965Z",
     "iopub.status.idle": "2025-03-24T10:27:27.603745Z",
     "shell.execute_reply": "2025-03-24T10:27:27.603068Z",
     "shell.execute_reply.started": "2025-03-24T10:27:27.583160Z"
    },
    "trusted": true
   },
   "outputs": [],
   "source": [
    "VOWELS = set(vowels)      # для создания дополнительного признака с гласными буквами (так как ударение можно ставить только над ними)\n",
    "\n",
    "\n",
    "class StressDataset(Dataset):\n",
    "    def __init__(self, csv_path_or_df, char2idx, is_test=False):\n",
    "        \"\"\"\n",
    "        csv_path_or_df: путь к .csv или готовый pandas DataFrame\n",
    "        char2idx: вручную созданный словарь {символ: индекс}\n",
    "        is_test: если True, то нет метки stress\n",
    "        \"\"\"\n",
    "        if isinstance(csv_path_or_df, str):\n",
    "            self.data = pd.read_csv(csv_path_or_df)\n",
    "        elif isinstance(csv_path_or_df, pd.DataFrame):\n",
    "            self.data = csv_path_or_df.copy()\n",
    "        else:\n",
    "            raise ValueError(\"csv_path_or_df должен быть либо строкой (путь к файлу), либо DataFrame\")\n",
    "\n",
    "        self.is_test = is_test\n",
    "        self.char2idx = char2idx\n",
    "        \n",
    "    def __len__(self):\n",
    "        return len(self.data)\n",
    "\n",
    "    def encode_word(self, word):\n",
    "        \"\"\"\n",
    "        Преобразует слово в список индексов, а также создаёт маску гласных\n",
    "        \"\"\"\n",
    "        word_encoded = []      # индексы символов по словарю char2idx\n",
    "        vowels_mask = []      # маска, показывает, где гласные\n",
    "\n",
    "        for char in word:\n",
    "            idx = self.char2idx.get(char, self.char2idx.get('<unk>'))   # ищем индекс символа\n",
    "            word_encoded.append(idx)\n",
    "\n",
    "            is_vowel = 1 if char in VOWELS else 0    # создаём маску гласных букв\n",
    "            vowels_mask.append(is_vowel)\n",
    "\n",
    "        return (\n",
    "            torch.tensor(word_encoded, dtype=torch.long),     # индексы символов\n",
    "            torch.tensor(vowels_mask, dtype=torch.float)    # маска гласных\n",
    "        )\n",
    "\n",
    "    def __getitem__(self, idx):\n",
    "        \"\"\"\n",
    "        Возвращает один элемент из датасета по индексу idx датасета.\n",
    "        В режиме обучения и валидации (is_test=False) возвращает кортеж вида ((word_tensor, vowel_mask), stress_label)\n",
    "        В режиме тестирования (is_test=True) возвращает кортеж вида ((word_tensor, vowel_mask), item_id)\n",
    "        \"\"\"\n",
    "        row = self.data.iloc[idx]\n",
    "        word_tensor, vowel_mask = self.encode_word(row['word'])\n",
    "\n",
    "        if self.is_test:\n",
    "            item_id = row['id'] if 'id' in row else idx\n",
    "            return (word_tensor, vowel_mask), item_id      # возвращаем с индексом слова, так как понадобится для формирования submission\n",
    "\n",
    "        # Тренировочная часть с меткой stress\n",
    "        # stress_label = torch.tensor(row['stress'] - 1, dtype=torch.long)\n",
    "        stress_label = torch.tensor(row['stress'], dtype=torch.long)\n",
    "        return (word_tensor, vowel_mask), stress_label\n"
   ]
  },
  {
   "cell_type": "markdown",
   "metadata": {},
   "source": [
    "Также создадим функцию для обработки батча и работы с `DataLoader`."
   ]
  },
  {
   "cell_type": "code",
   "execution_count": 15,
   "metadata": {
    "execution": {
     "iopub.execute_input": "2025-03-24T10:27:27.604789Z",
     "iopub.status.busy": "2025-03-24T10:27:27.604555Z",
     "iopub.status.idle": "2025-03-24T10:27:27.627929Z",
     "shell.execute_reply": "2025-03-24T10:27:27.627316Z",
     "shell.execute_reply.started": "2025-03-24T10:27:27.604763Z"
    },
    "trusted": true
   },
   "outputs": [],
   "source": [
    "def collate_fn(batch):\n",
    "    word_tensors = []\n",
    "    vowel_masks = []\n",
    "    lengths = []\n",
    "    targets_or_ids = []\n",
    "\n",
    "    # определяем режим train/test, чтобы не задавать его явно\n",
    "    target = batch[0][1]\n",
    "    is_test = not torch.is_tensor(target)\n",
    "\n",
    "    for (word_tensor, vowel_mask), target_or_id in batch:\n",
    "        word_tensors.append(word_tensor)\n",
    "        vowel_masks.append(vowel_mask)\n",
    "        lengths.append(len(word_tensor))\n",
    "        targets_or_ids.append(target_or_id)\n",
    "\n",
    "    # паддим по самому длинному в батче слову\n",
    "    padded_word_tensors = pad_sequence(word_tensors, batch_first=True, padding_value=0)\n",
    "    padded_vowel_masks = pad_sequence(vowel_masks, batch_first=True, padding_value=0.0)\n",
    "    # массив реальных длин слов до паддинга\n",
    "    lengths = torch.tensor(lengths, dtype=torch.long)\n",
    "\n",
    "    if is_test:\n",
    "        batch_ids = [int(i) for i in targets_or_ids]\n",
    "        return (padded_word_tensors, padded_vowel_masks, lengths), batch_ids\n",
    "    else:\n",
    "        stress_labels = torch.stack(targets_or_ids)\n",
    "        return (padded_word_tensors, padded_vowel_masks, lengths), stress_labels\n"
   ]
  },
  {
   "cell_type": "markdown",
   "metadata": {},
   "source": [
    "#### Теперь, когда у нас всё готово, подготовим данные перед обучением."
   ]
  },
  {
   "cell_type": "code",
   "execution_count": 16,
   "metadata": {
    "execution": {
     "iopub.execute_input": "2025-03-24T10:27:27.628870Z",
     "iopub.status.busy": "2025-03-24T10:27:27.628582Z",
     "iopub.status.idle": "2025-03-24T10:27:27.717013Z",
     "shell.execute_reply": "2025-03-24T10:27:27.716250Z",
     "shell.execute_reply.started": "2025-03-24T10:27:27.628844Z"
    },
    "trusted": true
   },
   "outputs": [],
   "source": [
    "train_dataset = StressDataset(train_split, char2idx=char2idx, is_test=False)\n",
    "val_dataset = StressDataset(val_split, char2idx=char2idx, is_test=False)\n",
    "test_dataset = StressDataset('/kaggle/input/silero-stress-predictor/test.csv', char2idx=char2idx, is_test=True)\n",
    "\n",
    "train_loader = torch.utils.data.DataLoader(\n",
    "    train_dataset, batch_size=32, shuffle=True, collate_fn=collate_fn\n",
    ")\n",
    "val_loader = torch.utils.data.DataLoader(\n",
    "    val_dataset, batch_size=32, shuffle=False, collate_fn=collate_fn\n",
    ")\n",
    "test_loader = torch.utils.data.DataLoader(\n",
    "    test_dataset, batch_size=32, shuffle=False, collate_fn=collate_fn\n",
    ")\n",
    "\n",
    "vocab_size = len(train_dataset.char2idx)"
   ]
  },
  {
   "cell_type": "markdown",
   "metadata": {},
   "source": [
    "# Модели и обучение\n",
    "\n",
    "### CNN"
   ]
  },
  {
   "cell_type": "markdown",
   "metadata": {},
   "source": [
    "Для начала попробуем простую свёрточную нейронную сеть, чтобы отладить обучение и оценить сложность задачи."
   ]
  },
  {
   "cell_type": "code",
   "execution_count": 51,
   "metadata": {
    "execution": {
     "iopub.execute_input": "2025-03-24T11:37:22.746651Z",
     "iopub.status.busy": "2025-03-24T11:37:22.746276Z",
     "iopub.status.idle": "2025-03-24T11:37:22.756856Z",
     "shell.execute_reply": "2025-03-24T11:37:22.755983Z",
     "shell.execute_reply.started": "2025-03-24T11:37:22.746619Z"
    },
    "trusted": true
   },
   "outputs": [],
   "source": [
    "class StressConvNet_test(nn.Module):\n",
    "    def __init__(self, vocab_size, dropout=0.3):\n",
    "        super().__init__()\n",
    "\n",
    "        self.embedding_dim = 64\n",
    "        self.n_out_channels = 64\n",
    "\n",
    "\n",
    "        self.embedding = nn.Embedding(\n",
    "            num_embeddings = vocab_size + 1,  # +1 для паддинга\n",
    "            embedding_dim = self.embedding_dim,\n",
    "            padding_idx = 0\n",
    "        )\n",
    "        \n",
    "        self.conv1d = nn.Conv1d(\n",
    "            in_channels = self.embedding_dim + 1,  # +1 из-за маски гласных\n",
    "            out_channels = self.n_out_channels,\n",
    "            kernel_size = 3,\n",
    "            padding = 1\n",
    "        )\n",
    "        \n",
    "        self.relu = nn.ReLU()\n",
    "        self.dropout = nn.Dropout(dropout)\n",
    "        self.batch_norm = nn.BatchNorm1d(self.n_out_channels)\n",
    "        \n",
    "        self.fc = nn.Linear(self.n_out_channels, 1)\n",
    "\n",
    "    \n",
    "    def forward(self, inputs):\n",
    "        padded_word_tensors, padded_vowel_masks, lengths = inputs\n",
    "        \n",
    "        x_embed = self.embedding(padded_word_tensors)   # [batch_size, seq_len] -> [batch_size, seq_len, embedding_dim]\n",
    "        vowel_mask_expanded = padded_vowel_masks.unsqueeze(-1)   # [batch_size, seq_len] -> [batch_size, seq_len, 1]\n",
    "        x = torch.cat([x_embed, vowel_mask_expanded], dim=-1)   # -> [batch_size, seq_len, embedding_dim + 1]\n",
    "        \n",
    "        x = x.permute(0, 2, 1)   # -> [batch_size, embedding_dim + 1, seq_len]\n",
    "        x = self.conv1d(x)   # -> [batch_size, channels, seq_len]\n",
    "        x = self.batch_norm(x)\n",
    "        x = self.relu(x)\n",
    "        x = self.dropout(x)\n",
    "        \n",
    "        x = x.permute(0, 2, 1)   # -> [batch_size, seq_len, channels]\n",
    "\n",
    "        logits = self.fc(x).squeeze(-1)  # [batch_size, seq_len]\n",
    "        \n",
    "        logits_list = []\n",
    "        for i in range(logits.size(0)):\n",
    "            mask = padded_vowel_masks[i].bool()     # [seq_len,]\n",
    "            logits_vowels_only = logits[i][mask]        # [num_vowels_in_word,]\n",
    "            \n",
    "            logits_list.append(logits_vowels_only)\n",
    "        \n",
    "        return logits_list\n",
    "\n",
    "\n",
    "model = StressConvNet_test(vocab_size=vocab_size)"
   ]
  },
  {
   "cell_type": "markdown",
   "metadata": {},
   "source": [
    "Создадим класс, который позволит нам провести обучение. Помимо очевидных функций реализуем также раннюю остановку для преотвращения переобучения, сохранение состояние модели с лучшим качеством на обучающей выборке для возможности дообучить модель с помощью resume=True (при этом состояние модели будет сохраняться, только если будет улучшаться качество метрики на валидационных данных), визуализацию метрики на train и val."
   ]
  },
  {
   "cell_type": "code",
   "execution_count": null,
   "metadata": {
    "execution": {
     "iopub.execute_input": "2025-03-24T11:37:55.946485Z",
     "iopub.status.busy": "2025-03-24T11:37:55.946154Z",
     "iopub.status.idle": "2025-03-24T11:37:55.968418Z",
     "shell.execute_reply": "2025-03-24T11:37:55.967535Z",
     "shell.execute_reply.started": "2025-03-24T11:37:55.946460Z"
    },
    "trusted": true
   },
   "outputs": [],
   "source": [
    "class Trainer:\n",
    "    def __init__(self, model, train_loader, val_loader, device,\n",
    "                 lr=1e-3, epochs=10, patience=3,\n",
    "                 checkpoint_path='/kaggle/working/best_model.pt',\n",
    "                 plot_path='/kaggle/working/training_plot.png',\n",
    "                 resume=False):\n",
    "\n",
    "        self.model = model.to(device)\n",
    "        self.train_loader = train_loader\n",
    "        self.val_loader = val_loader\n",
    "        self.device = device\n",
    "\n",
    "        self.optimizer = torch.optim.Adam(self.model.parameters(), lr=lr)\n",
    "\n",
    "        self.epochs = epochs\n",
    "        self.patience = patience\n",
    "        self.checkpoint_path = checkpoint_path\n",
    "        self.plot_path = plot_path\n",
    "\n",
    "        self.current_epoch = 0\n",
    "        self.best_val_loss = float('inf')\n",
    "        self.no_improvement_count = 0\n",
    "\n",
    "        self.train_losses = []\n",
    "        self.val_losses = []\n",
    "        self.val_accuracies = []\n",
    "\n",
    "        if resume:\n",
    "            self.load_checkpoint()\n",
    "        else:\n",
    "            print(f\"Starting fresh training with model {self.model.__class__.__name__}\")\n",
    "\n",
    "    def train(self):\n",
    "        total_epochs = self.current_epoch + self.epochs\n",
    "\n",
    "        print(f\"Starting training at epoch {self.current_epoch + 1} out of {total_epochs}\")\n",
    "\n",
    "        for epoch in range(self.current_epoch + 1, total_epochs + 1):\n",
    "            print(f\"\\nEpoch {epoch}/{total_epochs}\")\n",
    "\n",
    "            train_loss, train_acc = self.train_epoch()\n",
    "            val_loss, val_acc = self.validate_epoch()\n",
    "\n",
    "            self.train_losses.append(train_loss)\n",
    "            self.val_losses.append(val_loss)\n",
    "            self.val_accuracies.append(val_acc)\n",
    "\n",
    "            print(f\"Train Loss: {train_loss:.4f} | Train Acc: {train_acc:.2f}%\")\n",
    "            print(f\"Val Loss:   {val_loss:.4f} | Val Acc:   {val_acc:.2f}%\")\n",
    "\n",
    "            if val_loss < self.best_val_loss:\n",
    "                print(f\"Validation loss improved: {self.best_val_loss:.4f} --> {val_loss:.4f}. Saving checkpoint.\")\n",
    "                self.best_val_loss = val_loss\n",
    "                self.no_improvement_count = 0\n",
    "                self.current_epoch = epoch\n",
    "                self.save_checkpoint()\n",
    "            else:\n",
    "                self.no_improvement_count += 1\n",
    "                print(f\"No improvement for {self.no_improvement_count} epochs...\")\n",
    "\n",
    "            if self.no_improvement_count >= self.patience:\n",
    "                print(\"\\nEarly stopping triggered. Loading best checkpoint...\")\n",
    "                self.load_checkpoint()\n",
    "                break\n",
    "\n",
    "        print(\"\\nTraining finished. Loading best model...\")\n",
    "        self.load_checkpoint()\n",
    "        self.plot_training()\n",
    "\n",
    "    def train_epoch(self):\n",
    "        self.model.train()\n",
    "\n",
    "        total_loss = 0\n",
    "        total_correct = 0\n",
    "        total_samples = 0\n",
    "\n",
    "        for (padded_word_tensors, padded_vowel_masks, lengths), stress_labels in tqdm(self.train_loader, desc='Train'):\n",
    "            padded_word_tensors = padded_word_tensors.to(self.device)\n",
    "            padded_vowel_masks = padded_vowel_masks.to(self.device)\n",
    "            lengths = lengths.to(self.device)\n",
    "            stress_labels = stress_labels.to(self.device)\n",
    "\n",
    "            logits_list = self.model((padded_word_tensors, padded_vowel_masks, lengths))\n",
    "\n",
    "            losses = []\n",
    "            correct_preds = 0\n",
    "\n",
    "            for i in range(len(logits_list)):\n",
    "                logits = logits_list[i]\n",
    "                target = stress_labels[i] - 1      # 0-based индекс\n",
    "\n",
    "                if logits.numel() == 0:\n",
    "                    continue\n",
    "\n",
    "                loss = F.cross_entropy(logits.unsqueeze(0), target.unsqueeze(0))\n",
    "                losses.append(loss)\n",
    "\n",
    "                pred = logits.argmax().item()\n",
    "                if pred == target.item():\n",
    "                    correct_preds += 1\n",
    "\n",
    "            if len(losses) == 0:\n",
    "                continue\n",
    "\n",
    "            batch_loss = torch.stack(losses).mean()\n",
    "\n",
    "            self.optimizer.zero_grad()\n",
    "            batch_loss.backward()\n",
    "            self.optimizer.step()\n",
    "\n",
    "            total_loss += batch_loss.item() * len(logits_list)\n",
    "            total_correct += correct_preds\n",
    "            total_samples += len(logits_list)\n",
    "\n",
    "        avg_loss = total_loss / total_samples if total_samples > 0 else 0\n",
    "        accuracy = total_correct / total_samples * 100 if total_samples > 0 else 0\n",
    "\n",
    "        return avg_loss, accuracy\n",
    "\n",
    "    @torch.no_grad()\n",
    "    def validate_epoch(self):\n",
    "        self.model.eval()\n",
    "\n",
    "        total_loss = 0\n",
    "        total_correct = 0\n",
    "        total_samples = 0\n",
    "\n",
    "        for (padded_word_tensors, padded_vowel_masks, lengths), stress_labels in tqdm(self.val_loader, desc='Validate'):\n",
    "            padded_word_tensors = padded_word_tensors.to(self.device)\n",
    "            padded_vowel_masks = padded_vowel_masks.to(self.device)\n",
    "            lengths = lengths.to(self.device)\n",
    "            stress_labels = stress_labels.to(self.device)\n",
    "\n",
    "            logits_list = self.model((padded_word_tensors, padded_vowel_masks, lengths))\n",
    "\n",
    "            losses = []\n",
    "            correct_preds = 0\n",
    "\n",
    "            for i in range(len(logits_list)):\n",
    "                logits = logits_list[i]\n",
    "                target = stress_labels[i] - 1  # 0-based индекс гласной среди гласных\n",
    "\n",
    "                if logits.numel() == 0:\n",
    "                    continue\n",
    "\n",
    "                loss = F.cross_entropy(logits.unsqueeze(0), target.unsqueeze(0))\n",
    "                losses.append(loss)\n",
    "\n",
    "                pred = logits.argmax().item()\n",
    "                if pred == target.item():\n",
    "                    correct_preds += 1\n",
    "\n",
    "            if len(losses) == 0:\n",
    "                continue\n",
    "\n",
    "            batch_loss = torch.stack(losses).mean()\n",
    "\n",
    "            total_loss += batch_loss.item() * len(logits_list)\n",
    "            total_correct += correct_preds\n",
    "            total_samples += len(logits_list)\n",
    "\n",
    "        avg_loss = total_loss / total_samples if total_samples > 0 else 0\n",
    "        accuracy = total_correct / total_samples * 100 if total_samples > 0 else 0\n",
    "\n",
    "        return avg_loss, accuracy\n",
    "\n",
    "    def save_checkpoint(self):\n",
    "        checkpoint = {\n",
    "            'model_state_dict': self.model.state_dict(),\n",
    "            'optimizer_state_dict': self.optimizer.state_dict(),\n",
    "            'epoch': self.current_epoch,\n",
    "            'best_val_loss': self.best_val_loss,\n",
    "            'no_improvement_count': self.no_improvement_count,\n",
    "            'train_losses': self.train_losses,\n",
    "            'val_losses': self.val_losses,\n",
    "            'val_accuracies': self.val_accuracies\n",
    "        }\n",
    "        torch.save(checkpoint, self.checkpoint_path)\n",
    "        print(f\"Saved new best model to {self.checkpoint_path}\")\n",
    "\n",
    "    def load_checkpoint(self):\n",
    "        if os.path.exists(self.checkpoint_path):\n",
    "            try:\n",
    "                checkpoint = torch.load(self.checkpoint_path, map_location=self.device)\n",
    "                self.model.load_state_dict(checkpoint['model_state_dict'])\n",
    "                self.optimizer.load_state_dict(checkpoint['optimizer_state_dict'])\n",
    "\n",
    "                self.current_epoch = checkpoint.get('epoch', 0)\n",
    "                self.best_val_loss = checkpoint.get('best_val_loss', float('inf'))\n",
    "                self.no_improvement_count = checkpoint.get('no_improvement_count', 0)\n",
    "                self.train_losses = checkpoint.get('train_losses', [])\n",
    "                self.val_losses = checkpoint.get('val_losses', [])\n",
    "                self.val_accuracies = checkpoint.get('val_accuracies', [])\n",
    "\n",
    "                print(f\"Loaded checkpoint from {self.checkpoint_path}. Resuming from epoch {self.current_epoch + 1}.\")\n",
    "            except RuntimeError as e:\n",
    "                print(f\"Error loading checkpoint: {e}\")\n",
    "                print(\"Checkpoint not compatible with current model. Starting from scratch.\")\n",
    "                self.current_epoch = 0\n",
    "        else:\n",
    "            print(f\"No checkpoint found at {self.checkpoint_path}\")\n",
    "            self.current_epoch = 0\n",
    "\n",
    "    def plot_training(self):\n",
    "        if not self.train_losses:\n",
    "            print(\"No training data to plot.\")\n",
    "            return\n",
    "\n",
    "        epochs_range = range(1, len(self.train_losses) + 1)\n",
    "\n",
    "        plt.figure(figsize=(12, 5))\n",
    "\n",
    "        plt.subplot(1, 2, 1)\n",
    "        plt.plot(epochs_range, self.train_losses, label='Train Loss')\n",
    "        plt.plot(epochs_range, self.val_losses, label='Val Loss')\n",
    "        plt.xlabel('Epoch')\n",
    "        plt.ylabel('Loss')\n",
    "        plt.legend()\n",
    "        plt.title('Loss per Epoch')\n",
    "\n",
    "        plt.subplot(1, 2, 2)\n",
    "        plt.plot(epochs_range, self.val_accuracies, label='Val Accuracy', color='green')\n",
    "        plt.xlabel('Epoch')\n",
    "        plt.ylabel('Accuracy (%)')\n",
    "        plt.legend()\n",
    "        plt.title('Validation Accuracy per Epoch')\n",
    "\n",
    "        plt.tight_layout()\n",
    "\n",
    "        plt.savefig(self.plot_path)\n",
    "        print(f\"Training plots saved to {self.plot_path}\")\n",
    "        plt.show()\n",
    "\n"
   ]
  },
  {
   "cell_type": "markdown",
   "metadata": {},
   "source": [
    "Попробуем обучить модель."
   ]
  },
  {
   "cell_type": "code",
   "execution_count": 53,
   "metadata": {
    "execution": {
     "iopub.execute_input": "2025-03-24T11:38:02.503478Z",
     "iopub.status.busy": "2025-03-24T11:38:02.503123Z",
     "iopub.status.idle": "2025-03-24T11:45:34.894441Z",
     "shell.execute_reply": "2025-03-24T11:45:34.893540Z",
     "shell.execute_reply.started": "2025-03-24T11:38:02.503449Z"
    },
    "trusted": true
   },
   "outputs": [
    {
     "name": "stdout",
     "output_type": "stream",
     "text": [
      "Starting fresh training with model StressConvNet_test\n",
      "Starting training at epoch 1 out of 15\n",
      "\n",
      "Epoch 1/15\n"
     ]
    },
    {
     "name": "stderr",
     "output_type": "stream",
     "text": [
      "Train: 100%|██████████| 1578/1578 [00:29<00:00, 53.41it/s]\n",
      "Validate: 100%|██████████| 406/406 [00:03<00:00, 103.62it/s]\n"
     ]
    },
    {
     "name": "stdout",
     "output_type": "stream",
     "text": [
      "Train Loss: 0.8829 | Train Acc: 61.13%\n",
      "Val Loss:   0.8282 | Val Acc:   63.69%\n",
      "Validation loss improved: inf --> 0.8282. Saving checkpoint.\n",
      "Saved new best model to best_stress_model.pt\n",
      "\n",
      "Epoch 2/15\n"
     ]
    },
    {
     "name": "stderr",
     "output_type": "stream",
     "text": [
      "Train: 100%|██████████| 1578/1578 [00:31<00:00, 50.24it/s]\n",
      "Validate: 100%|██████████| 406/406 [00:03<00:00, 103.26it/s]\n"
     ]
    },
    {
     "name": "stdout",
     "output_type": "stream",
     "text": [
      "Train Loss: 0.8172 | Train Acc: 64.49%\n",
      "Val Loss:   0.8081 | Val Acc:   64.80%\n",
      "Validation loss improved: 0.8282 --> 0.8081. Saving checkpoint.\n",
      "Saved new best model to best_stress_model.pt\n",
      "\n",
      "Epoch 3/15\n"
     ]
    },
    {
     "name": "stderr",
     "output_type": "stream",
     "text": [
      "Train: 100%|██████████| 1578/1578 [00:31<00:00, 50.82it/s]\n",
      "Validate: 100%|██████████| 406/406 [00:04<00:00, 101.23it/s]\n"
     ]
    },
    {
     "name": "stdout",
     "output_type": "stream",
     "text": [
      "Train Loss: 0.7996 | Train Acc: 65.41%\n",
      "Val Loss:   0.7907 | Val Acc:   65.41%\n",
      "Validation loss improved: 0.8081 --> 0.7907. Saving checkpoint.\n",
      "Saved new best model to best_stress_model.pt\n",
      "\n",
      "Epoch 4/15\n"
     ]
    },
    {
     "name": "stderr",
     "output_type": "stream",
     "text": [
      "Train: 100%|██████████| 1578/1578 [00:31<00:00, 50.75it/s]\n",
      "Validate: 100%|██████████| 406/406 [00:03<00:00, 114.87it/s]\n"
     ]
    },
    {
     "name": "stdout",
     "output_type": "stream",
     "text": [
      "Train Loss: 0.7887 | Train Acc: 65.99%\n",
      "Val Loss:   0.7928 | Val Acc:   65.22%\n",
      "No improvement for 1 epochs...\n",
      "\n",
      "Epoch 5/15\n"
     ]
    },
    {
     "name": "stderr",
     "output_type": "stream",
     "text": [
      "Train: 100%|██████████| 1578/1578 [00:29<00:00, 52.66it/s]\n",
      "Validate: 100%|██████████| 406/406 [00:03<00:00, 101.64it/s]\n"
     ]
    },
    {
     "name": "stdout",
     "output_type": "stream",
     "text": [
      "Train Loss: 0.7838 | Train Acc: 66.32%\n",
      "Val Loss:   0.7829 | Val Acc:   66.17%\n",
      "Validation loss improved: 0.7907 --> 0.7829. Saving checkpoint.\n",
      "Saved new best model to best_stress_model.pt\n",
      "\n",
      "Epoch 6/15\n"
     ]
    },
    {
     "name": "stderr",
     "output_type": "stream",
     "text": [
      "Train: 100%|██████████| 1578/1578 [00:31<00:00, 50.56it/s]\n",
      "Validate: 100%|██████████| 406/406 [00:03<00:00, 104.22it/s]\n"
     ]
    },
    {
     "name": "stdout",
     "output_type": "stream",
     "text": [
      "Train Loss: 0.7767 | Train Acc: 66.56%\n",
      "Val Loss:   0.7784 | Val Acc:   66.49%\n",
      "Validation loss improved: 0.7829 --> 0.7784. Saving checkpoint.\n",
      "Saved new best model to best_stress_model.pt\n",
      "\n",
      "Epoch 7/15\n"
     ]
    },
    {
     "name": "stderr",
     "output_type": "stream",
     "text": [
      "Train: 100%|██████████| 1578/1578 [00:31<00:00, 50.90it/s]\n",
      "Validate: 100%|██████████| 406/406 [00:04<00:00, 98.11it/s] \n"
     ]
    },
    {
     "name": "stdout",
     "output_type": "stream",
     "text": [
      "Train Loss: 0.7734 | Train Acc: 67.12%\n",
      "Val Loss:   0.7745 | Val Acc:   66.92%\n",
      "Validation loss improved: 0.7784 --> 0.7745. Saving checkpoint.\n",
      "Saved new best model to best_stress_model.pt\n",
      "\n",
      "Epoch 8/15\n"
     ]
    },
    {
     "name": "stderr",
     "output_type": "stream",
     "text": [
      "Train: 100%|██████████| 1578/1578 [00:28<00:00, 55.50it/s]\n",
      "Validate: 100%|██████████| 406/406 [00:03<00:00, 103.34it/s]\n"
     ]
    },
    {
     "name": "stdout",
     "output_type": "stream",
     "text": [
      "Train Loss: 0.7685 | Train Acc: 67.01%\n",
      "Val Loss:   0.7735 | Val Acc:   66.83%\n",
      "Validation loss improved: 0.7745 --> 0.7735. Saving checkpoint.\n",
      "Saved new best model to best_stress_model.pt\n",
      "\n",
      "Epoch 9/15\n"
     ]
    },
    {
     "name": "stderr",
     "output_type": "stream",
     "text": [
      "Train: 100%|██████████| 1578/1578 [00:31<00:00, 50.33it/s]\n",
      "Validate: 100%|██████████| 406/406 [00:03<00:00, 102.87it/s]\n"
     ]
    },
    {
     "name": "stdout",
     "output_type": "stream",
     "text": [
      "Train Loss: 0.7668 | Train Acc: 67.23%\n",
      "Val Loss:   0.7677 | Val Acc:   67.14%\n",
      "Validation loss improved: 0.7735 --> 0.7677. Saving checkpoint.\n",
      "Saved new best model to best_stress_model.pt\n",
      "\n",
      "Epoch 10/15\n"
     ]
    },
    {
     "name": "stderr",
     "output_type": "stream",
     "text": [
      "Train: 100%|██████████| 1578/1578 [00:31<00:00, 50.65it/s]\n",
      "Validate: 100%|██████████| 406/406 [00:04<00:00, 100.93it/s]\n"
     ]
    },
    {
     "name": "stdout",
     "output_type": "stream",
     "text": [
      "Train Loss: 0.7626 | Train Acc: 67.27%\n",
      "Val Loss:   0.7646 | Val Acc:   66.93%\n",
      "Validation loss improved: 0.7677 --> 0.7646. Saving checkpoint.\n",
      "Saved new best model to best_stress_model.pt\n",
      "\n",
      "Epoch 11/15\n"
     ]
    },
    {
     "name": "stderr",
     "output_type": "stream",
     "text": [
      "Train: 100%|██████████| 1578/1578 [00:31<00:00, 50.26it/s]\n",
      "Validate: 100%|██████████| 406/406 [00:03<00:00, 106.18it/s]\n"
     ]
    },
    {
     "name": "stdout",
     "output_type": "stream",
     "text": [
      "Train Loss: 0.7639 | Train Acc: 67.24%\n",
      "Val Loss:   0.7690 | Val Acc:   66.39%\n",
      "No improvement for 1 epochs...\n",
      "\n",
      "Epoch 12/15\n"
     ]
    },
    {
     "name": "stderr",
     "output_type": "stream",
     "text": [
      "Train: 100%|██████████| 1578/1578 [00:31<00:00, 50.19it/s]\n",
      "Validate: 100%|██████████| 406/406 [00:03<00:00, 102.05it/s]\n"
     ]
    },
    {
     "name": "stdout",
     "output_type": "stream",
     "text": [
      "Train Loss: 0.7586 | Train Acc: 67.79%\n",
      "Val Loss:   0.7699 | Val Acc:   66.44%\n",
      "No improvement for 2 epochs...\n",
      "\n",
      "Epoch 13/15\n"
     ]
    },
    {
     "name": "stderr",
     "output_type": "stream",
     "text": [
      "Train: 100%|██████████| 1578/1578 [00:31<00:00, 50.38it/s]\n",
      "Validate: 100%|██████████| 406/406 [00:03<00:00, 102.33it/s]\n",
      "<ipython-input-52-68e0317e3f15>:184: FutureWarning: You are using `torch.load` with `weights_only=False` (the current default value), which uses the default pickle module implicitly. It is possible to construct malicious pickle data which will execute arbitrary code during unpickling (See https://github.com/pytorch/pytorch/blob/main/SECURITY.md#untrusted-models for more details). In a future release, the default value for `weights_only` will be flipped to `True`. This limits the functions that could be executed during unpickling. Arbitrary objects will no longer be allowed to be loaded via this mode unless they are explicitly allowlisted by the user via `torch.serialization.add_safe_globals`. We recommend you start setting `weights_only=True` for any use case where you don't have full control of the loaded file. Please open an issue on GitHub for any issues related to this experimental feature.\n",
      "  checkpoint = torch.load(self.checkpoint_path, map_location=self.device)\n"
     ]
    },
    {
     "name": "stdout",
     "output_type": "stream",
     "text": [
      "Train Loss: 0.7576 | Train Acc: 67.56%\n",
      "Val Loss:   0.7664 | Val Acc:   66.88%\n",
      "No improvement for 3 epochs...\n",
      "\n",
      "Early stopping triggered. Loading best checkpoint...\n",
      "Loaded checkpoint from best_stress_model.pt. Resuming from epoch 11.\n",
      "\n",
      "Training finished. Loading best model...\n",
      "Loaded checkpoint from best_stress_model.pt. Resuming from epoch 11.\n",
      "Training plots saved to /kaggle/working/training_plot.png\n"
     ]
    },
    {
     "data": {
      "image/png": "[encoded data removed]",
      "text/plain": [
       "<Figure size 1200x500 with 2 Axes>"
      ]
     },
     "metadata": {},
     "output_type": "display_data"
    }
   ],
   "source": [
    "trainer = Trainer(\n",
    "    model=model,\n",
    "    train_loader=train_loader,\n",
    "    val_loader=val_loader,\n",
    "    device='cuda' if torch.cuda.is_available() else 'cpu',\n",
    "    lr=1e-3,\n",
    "    epochs=15,\n",
    "    patience=3,\n",
    "    checkpoint_path='best_stress_model.pt'\n",
    ")\n",
    "\n",
    "trainer.train()"
   ]
  },
  {
   "cell_type": "markdown",
   "metadata": {},
   "source": [
    "Прекрасно, здесь даже видно, что у нас работает ранняя остановка. Всё работает, теперь можно попробовать немного усложнить модель."
   ]
  },
  {
   "cell_type": "code",
   "execution_count": 17,
   "metadata": {
    "execution": {
     "iopub.execute_input": "2025-03-24T10:27:30.844489Z",
     "iopub.status.busy": "2025-03-24T10:27:30.844195Z",
     "iopub.status.idle": "2025-03-24T10:27:30.976019Z",
     "shell.execute_reply": "2025-03-24T10:27:30.975286Z",
     "shell.execute_reply.started": "2025-03-24T10:27:30.844469Z"
    },
    "trusted": true
   },
   "outputs": [],
   "source": [
    "class StressConvNet(nn.Module):\n",
    "    def __init__(self, vocab_size, dropout=0.3):\n",
    "        super().__init__()\n",
    "\n",
    "        self.embedding_dim = 64\n",
    "        self.n_out_channels = 64\n",
    "\n",
    "\n",
    "        self.embedding = nn.Embedding(\n",
    "            num_embeddings = vocab_size + 1,  # +1 для паддинга\n",
    "            embedding_dim = self.embedding_dim,\n",
    "            padding_idx = 0\n",
    "        )\n",
    "\n",
    "        self.conv1_block = nn.Sequential(\n",
    "            nn.Conv1d(self.embedding_dim + 1, self.n_out_channels, kernel_size=3, padding=1),\n",
    "            nn.BatchNorm1d(self.n_out_channels),\n",
    "            nn.ReLU(),\n",
    "            nn.Dropout(dropout)\n",
    "        )\n",
    "\n",
    "        self.conv2_block = nn.Sequential(\n",
    "            nn.Conv1d(self.n_out_channels, self.n_out_channels, kernel_size=3, padding=1),\n",
    "            nn.BatchNorm1d(self.n_out_channels),\n",
    "            nn.ReLU(),\n",
    "            nn.Dropout(dropout)\n",
    "        )\n",
    "\n",
    "        self.conv3_block = nn.Sequential(\n",
    "            nn.Conv1d(self.n_out_channels, self.n_out_channels, kernel_size=3, padding=1),\n",
    "            nn.BatchNorm1d(self.n_out_channels),\n",
    "            nn.ReLU(),\n",
    "            nn.Dropout(dropout)\n",
    "        )\n",
    "        \n",
    "        self.fc = nn.Linear(self.n_out_channels, 1)\n",
    "\n",
    "    \n",
    "    def forward(self, inputs):\n",
    "        padded_word_tensors, padded_vowel_masks, lengths = inputs\n",
    "        \n",
    "        x_embed = self.embedding(padded_word_tensors)   # [batch_size, seq_len] -> [batch_size, seq_len, embedding_dim]\n",
    "        vowel_mask_expanded = padded_vowel_masks.unsqueeze(-1)   # [batch_size, seq_len] -> [batch_size, seq_len, 1]\n",
    "        x = torch.cat([x_embed, vowel_mask_expanded], dim=-1)   # -> [batch_size, seq_len, embedding_dim + 1]\n",
    "        \n",
    "        x = x.permute(0, 2, 1)   # -> [batch_size, embedding_dim + 1, seq_len]\n",
    "        x = self.conv1_block(x)\n",
    "        x = self.conv2_block(x)\n",
    "        x = self.conv3_block(x)\n",
    "        \n",
    "        x = x.permute(0, 2, 1)   # -> [batch_size, seq_len, conv_filters]\n",
    "        \n",
    "        logits_list = []\n",
    "        for i in range(x.size(0)):\n",
    "            mask = padded_vowel_masks[i].bool()   # [seq_len,]\n",
    "            x_vowels_only = x[i][mask]   # -> [num_vowels_in_word, channels]\n",
    "\n",
    "            logits_vowels = self.fc(x_vowels_only)\n",
    "            logits_vowels = logits_vowels.squeeze(-1)   # -> [num_vowels_in_word,]\n",
    "            logits_list.append(logits_vowels)\n",
    "\n",
    "        return logits_list\n",
    "\n",
    "\n",
    "model = StressConvNet(vocab_size=vocab_size)"
   ]
  },
  {
   "cell_type": "code",
   "execution_count": 21,
   "metadata": {
    "execution": {
     "iopub.execute_input": "2025-03-24T10:28:51.606113Z",
     "iopub.status.busy": "2025-03-24T10:28:51.605806Z",
     "iopub.status.idle": "2025-03-24T10:41:11.182091Z",
     "shell.execute_reply": "2025-03-24T10:41:11.181206Z",
     "shell.execute_reply.started": "2025-03-24T10:28:51.606090Z"
    },
    "trusted": true
   },
   "outputs": [
    {
     "name": "stdout",
     "output_type": "stream",
     "text": [
      "Starting fresh training with model StressConvNetVowelFocused\n",
      "Starting training at epoch 1 out of 15\n",
      "\n",
      "Epoch 1/15\n"
     ]
    },
    {
     "name": "stderr",
     "output_type": "stream",
     "text": [
      "Train: 100%|██████████| 1578/1578 [00:42<00:00, 37.02it/s]\n",
      "Validate: 100%|██████████| 406/406 [00:05<00:00, 80.46it/s]\n"
     ]
    },
    {
     "name": "stdout",
     "output_type": "stream",
     "text": [
      "Train Loss: 0.7648 | Train Acc: 67.77%\n",
      "Val Loss:   0.6628 | Val Acc:   73.47%\n",
      "Validation loss improved: inf --> 0.6628. Saving checkpoint.\n",
      "Saved new best model to best_stress_model.pt\n",
      "\n",
      "Epoch 2/15\n"
     ]
    },
    {
     "name": "stderr",
     "output_type": "stream",
     "text": [
      "Train: 100%|██████████| 1578/1578 [00:44<00:00, 35.22it/s]\n",
      "Validate: 100%|██████████| 406/406 [00:05<00:00, 80.54it/s]\n"
     ]
    },
    {
     "name": "stdout",
     "output_type": "stream",
     "text": [
      "Train Loss: 0.6663 | Train Acc: 72.81%\n",
      "Val Loss:   0.6175 | Val Acc:   75.44%\n",
      "Validation loss improved: 0.6628 --> 0.6175. Saving checkpoint.\n",
      "Saved new best model to best_stress_model.pt\n",
      "\n",
      "Epoch 3/15\n"
     ]
    },
    {
     "name": "stderr",
     "output_type": "stream",
     "text": [
      "Train: 100%|██████████| 1578/1578 [00:44<00:00, 35.22it/s]\n",
      "Validate: 100%|██████████| 406/406 [00:05<00:00, 77.56it/s]\n"
     ]
    },
    {
     "name": "stdout",
     "output_type": "stream",
     "text": [
      "Train Loss: 0.6296 | Train Acc: 74.15%\n",
      "Val Loss:   0.6004 | Val Acc:   75.48%\n",
      "Validation loss improved: 0.6175 --> 0.6004. Saving checkpoint.\n",
      "Saved new best model to best_stress_model.pt\n",
      "\n",
      "Epoch 4/15\n"
     ]
    },
    {
     "name": "stderr",
     "output_type": "stream",
     "text": [
      "Train: 100%|██████████| 1578/1578 [00:40<00:00, 38.49it/s]\n",
      "Validate: 100%|██████████| 406/406 [00:04<00:00, 86.70it/s]\n"
     ]
    },
    {
     "name": "stdout",
     "output_type": "stream",
     "text": [
      "Train Loss: 0.6055 | Train Acc: 75.34%\n",
      "Val Loss:   0.5848 | Val Acc:   76.27%\n",
      "Validation loss improved: 0.6004 --> 0.5848. Saving checkpoint.\n",
      "Saved new best model to best_stress_model.pt\n",
      "\n",
      "Epoch 5/15\n"
     ]
    },
    {
     "name": "stderr",
     "output_type": "stream",
     "text": [
      "Train: 100%|██████████| 1578/1578 [00:45<00:00, 34.75it/s]\n",
      "Validate: 100%|██████████| 406/406 [00:05<00:00, 76.65it/s]\n"
     ]
    },
    {
     "name": "stdout",
     "output_type": "stream",
     "text": [
      "Train Loss: 0.5916 | Train Acc: 75.88%\n",
      "Val Loss:   0.5710 | Val Acc:   77.02%\n",
      "Validation loss improved: 0.5848 --> 0.5710. Saving checkpoint.\n",
      "Saved new best model to best_stress_model.pt\n",
      "\n",
      "Epoch 6/15\n"
     ]
    },
    {
     "name": "stderr",
     "output_type": "stream",
     "text": [
      "Train: 100%|██████████| 1578/1578 [00:43<00:00, 35.90it/s]\n",
      "Validate: 100%|██████████| 406/406 [00:05<00:00, 78.73it/s]\n"
     ]
    },
    {
     "name": "stdout",
     "output_type": "stream",
     "text": [
      "Train Loss: 0.5770 | Train Acc: 76.56%\n",
      "Val Loss:   0.5760 | Val Acc:   77.19%\n",
      "No improvement for 1 epochs...\n",
      "\n",
      "Epoch 7/15\n"
     ]
    },
    {
     "name": "stderr",
     "output_type": "stream",
     "text": [
      "Train: 100%|██████████| 1578/1578 [00:45<00:00, 35.04it/s]\n",
      "Validate: 100%|██████████| 406/406 [00:05<00:00, 78.20it/s]\n"
     ]
    },
    {
     "name": "stdout",
     "output_type": "stream",
     "text": [
      "Train Loss: 0.5652 | Train Acc: 77.04%\n",
      "Val Loss:   0.5624 | Val Acc:   77.53%\n",
      "Validation loss improved: 0.5710 --> 0.5624. Saving checkpoint.\n",
      "Saved new best model to best_stress_model.pt\n",
      "\n",
      "Epoch 8/15\n"
     ]
    },
    {
     "name": "stderr",
     "output_type": "stream",
     "text": [
      "Train: 100%|██████████| 1578/1578 [00:43<00:00, 36.50it/s]\n",
      "Validate: 100%|██████████| 406/406 [00:05<00:00, 78.80it/s]\n"
     ]
    },
    {
     "name": "stdout",
     "output_type": "stream",
     "text": [
      "Train Loss: 0.5600 | Train Acc: 77.18%\n",
      "Val Loss:   0.5605 | Val Acc:   77.41%\n",
      "Validation loss improved: 0.5624 --> 0.5605. Saving checkpoint.\n",
      "Saved new best model to best_stress_model.pt\n",
      "\n",
      "Epoch 9/15\n"
     ]
    },
    {
     "name": "stderr",
     "output_type": "stream",
     "text": [
      "Train: 100%|██████████| 1578/1578 [00:44<00:00, 35.52it/s]\n",
      "Validate: 100%|██████████| 406/406 [00:05<00:00, 78.86it/s]\n"
     ]
    },
    {
     "name": "stdout",
     "output_type": "stream",
     "text": [
      "Train Loss: 0.5489 | Train Acc: 77.66%\n",
      "Val Loss:   0.5546 | Val Acc:   77.39%\n",
      "Validation loss improved: 0.5605 --> 0.5546. Saving checkpoint.\n",
      "Saved new best model to best_stress_model.pt\n",
      "\n",
      "Epoch 10/15\n"
     ]
    },
    {
     "name": "stderr",
     "output_type": "stream",
     "text": [
      "Train: 100%|██████████| 1578/1578 [00:44<00:00, 35.79it/s]\n",
      "Validate: 100%|██████████| 406/406 [00:05<00:00, 80.92it/s]\n"
     ]
    },
    {
     "name": "stdout",
     "output_type": "stream",
     "text": [
      "Train Loss: 0.5432 | Train Acc: 77.93%\n",
      "Val Loss:   0.5499 | Val Acc:   77.66%\n",
      "Validation loss improved: 0.5546 --> 0.5499. Saving checkpoint.\n",
      "Saved new best model to best_stress_model.pt\n",
      "\n",
      "Epoch 11/15\n"
     ]
    },
    {
     "name": "stderr",
     "output_type": "stream",
     "text": [
      "Train: 100%|██████████| 1578/1578 [00:45<00:00, 35.00it/s]\n",
      "Validate: 100%|██████████| 406/406 [00:05<00:00, 78.46it/s]\n"
     ]
    },
    {
     "name": "stdout",
     "output_type": "stream",
     "text": [
      "Train Loss: 0.5387 | Train Acc: 78.19%\n",
      "Val Loss:   0.5380 | Val Acc:   77.85%\n",
      "Validation loss improved: 0.5499 --> 0.5380. Saving checkpoint.\n",
      "Saved new best model to best_stress_model.pt\n",
      "\n",
      "Epoch 12/15\n"
     ]
    },
    {
     "name": "stderr",
     "output_type": "stream",
     "text": [
      "Train: 100%|██████████| 1578/1578 [00:44<00:00, 35.51it/s]\n",
      "Validate: 100%|██████████| 406/406 [00:05<00:00, 78.86it/s]\n"
     ]
    },
    {
     "name": "stdout",
     "output_type": "stream",
     "text": [
      "Train Loss: 0.5314 | Train Acc: 78.59%\n",
      "Val Loss:   0.5439 | Val Acc:   78.25%\n",
      "No improvement for 1 epochs...\n",
      "\n",
      "Epoch 13/15\n"
     ]
    },
    {
     "name": "stderr",
     "output_type": "stream",
     "text": [
      "Train: 100%|██████████| 1578/1578 [00:44<00:00, 35.41it/s]\n",
      "Validate: 100%|██████████| 406/406 [00:05<00:00, 79.17it/s]\n"
     ]
    },
    {
     "name": "stdout",
     "output_type": "stream",
     "text": [
      "Train Loss: 0.5298 | Train Acc: 78.42%\n",
      "Val Loss:   0.5354 | Val Acc:   78.54%\n",
      "Validation loss improved: 0.5380 --> 0.5354. Saving checkpoint.\n",
      "Saved new best model to best_stress_model.pt\n",
      "\n",
      "Epoch 14/15\n"
     ]
    },
    {
     "name": "stderr",
     "output_type": "stream",
     "text": [
      "Train: 100%|██████████| 1578/1578 [00:44<00:00, 35.41it/s]\n",
      "Validate: 100%|██████████| 406/406 [00:04<00:00, 81.34it/s]\n"
     ]
    },
    {
     "name": "stdout",
     "output_type": "stream",
     "text": [
      "Train Loss: 0.5253 | Train Acc: 78.80%\n",
      "Val Loss:   0.5343 | Val Acc:   78.49%\n",
      "Validation loss improved: 0.5354 --> 0.5343. Saving checkpoint.\n",
      "Saved new best model to best_stress_model.pt\n",
      "\n",
      "Epoch 15/15\n"
     ]
    },
    {
     "name": "stderr",
     "output_type": "stream",
     "text": [
      "Train: 100%|██████████| 1578/1578 [00:43<00:00, 35.99it/s]\n",
      "Validate: 100%|██████████| 406/406 [00:05<00:00, 80.76it/s]\n",
      "<ipython-input-20-f4c988d580d9>:184: FutureWarning: You are using `torch.load` with `weights_only=False` (the current default value), which uses the default pickle module implicitly. It is possible to construct malicious pickle data which will execute arbitrary code during unpickling (See https://github.com/pytorch/pytorch/blob/main/SECURITY.md#untrusted-models for more details). In a future release, the default value for `weights_only` will be flipped to `True`. This limits the functions that could be executed during unpickling. Arbitrary objects will no longer be allowed to be loaded via this mode unless they are explicitly allowlisted by the user via `torch.serialization.add_safe_globals`. We recommend you start setting `weights_only=True` for any use case where you don't have full control of the loaded file. Please open an issue on GitHub for any issues related to this experimental feature.\n",
      "  checkpoint = torch.load(self.checkpoint_path, map_location=self.device)\n"
     ]
    },
    {
     "name": "stdout",
     "output_type": "stream",
     "text": [
      "Train Loss: 0.5210 | Train Acc: 78.94%\n",
      "Val Loss:   0.5322 | Val Acc:   78.87%\n",
      "Validation loss improved: 0.5343 --> 0.5322. Saving checkpoint.\n",
      "Saved new best model to best_stress_model.pt\n",
      "\n",
      "Training finished. Loading best model...\n",
      "Loaded checkpoint from best_stress_model.pt. Resuming from epoch 16.\n",
      "Training plots saved to /kaggle/working/training_plot.png\n"
     ]
    },
    {
     "data": {
      "image/png": "[encoded data removed]",
      "text/plain": [
       "<Figure size 1200x500 with 2 Axes>"
      ]
     },
     "metadata": {},
     "output_type": "display_data"
    }
   ],
   "source": [
    "trainer = Trainer(\n",
    "    model=model,\n",
    "    train_loader=train_loader,\n",
    "    val_loader=val_loader,\n",
    "    device='cuda' if torch.cuda.is_available() else 'cpu',\n",
    "    lr=1e-3,\n",
    "    epochs=15,\n",
    "    patience=3,\n",
    "    checkpoint_path='best_stress_model.pt'\n",
    ")\n",
    "\n",
    "trainer.train()"
   ]
  },
  {
   "cell_type": "markdown",
   "metadata": {},
   "source": [
    "Нейронные сети часто могут грешить overconfidence, поэтому (на всякий случай) проверим нашу модель с помощью калибровочной кривой. Строить кривую будем на валидационной выборке, чтобы оценить, насколько модель на самом деле пере- или недоуверена в своих ответах."
   ]
  },
  {
   "cell_type": "code",
   "execution_count": null,
   "metadata": {
    "execution": {
     "iopub.execute_input": "2025-03-24T10:41:52.437667Z",
     "iopub.status.busy": "2025-03-24T10:41:52.437342Z",
     "iopub.status.idle": "2025-03-24T10:41:52.446452Z",
     "shell.execute_reply": "2025-03-24T10:41:52.445471Z",
     "shell.execute_reply.started": "2025-03-24T10:41:52.437645Z"
    },
    "trusted": true
   },
   "outputs": [],
   "source": [
    "def validate_with_calibration(trainer, val_loader):\n",
    "    trainer.model.eval()\n",
    "\n",
    "    total_loss = 0\n",
    "    total_correct = 0\n",
    "    total_samples = 0\n",
    "\n",
    "    all_confidences = []\n",
    "    all_corrects = []\n",
    "\n",
    "    with torch.no_grad():\n",
    "        for (padded_word_tensors, padded_vowel_masks, lengths), stress_labels in tqdm(val_loader, desc='Validate'):\n",
    "            padded_word_tensors = padded_word_tensors.to(trainer.device)\n",
    "            padded_vowel_masks = padded_vowel_masks.to(trainer.device)\n",
    "            lengths = lengths.to(trainer.device)\n",
    "            stress_labels = stress_labels.to(trainer.device)\n",
    "\n",
    "            logits_list = trainer.model((padded_word_tensors, padded_vowel_masks, lengths))\n",
    "\n",
    "            losses = []\n",
    "            correct_preds = 0\n",
    "\n",
    "            for i in range(len(logits_list)):\n",
    "                logits = logits_list[i]\n",
    "                target = stress_labels[i] - 1\n",
    "\n",
    "                if logits.numel() == 0:\n",
    "                    continue\n",
    "\n",
    "                loss = F.cross_entropy(logits.unsqueeze(0), target.unsqueeze(0))\n",
    "                losses.append(loss)\n",
    "                probs = F.softmax(logits, dim=0)\n",
    "                \n",
    "                max_prob, pred_idx = torch.max(probs, dim=0)\n",
    "                correct = (pred_idx.item() == target.item())\n",
    "\n",
    "                all_confidences.append(max_prob.item())\n",
    "                all_corrects.append(int(correct))\n",
    "\n",
    "                if correct:\n",
    "                    correct_preds += 1\n",
    "\n",
    "            if len(losses) == 0:\n",
    "                continue\n",
    "\n",
    "            batch_loss = torch.stack(losses).mean()\n",
    "\n",
    "            total_loss += batch_loss.item() * len(logits_list)\n",
    "            total_correct += correct_preds\n",
    "            total_samples += len(logits_list)\n",
    "\n",
    "    avg_loss = total_loss / total_samples if total_samples > 0 else 0\n",
    "    accuracy = total_correct / total_samples * 100 if total_samples > 0 else 0\n",
    "\n",
    "    print(f\"Val Loss: {avg_loss:.4f} | Val Acc: {accuracy:.2f}%\")\n",
    "\n",
    "    return all_confidences, all_corrects"
   ]
  },
  {
   "cell_type": "code",
   "execution_count": 26,
   "metadata": {
    "execution": {
     "iopub.execute_input": "2025-03-24T10:41:55.188652Z",
     "iopub.status.busy": "2025-03-24T10:41:55.188309Z",
     "iopub.status.idle": "2025-03-24T10:42:00.878195Z",
     "shell.execute_reply": "2025-03-24T10:42:00.877330Z",
     "shell.execute_reply.started": "2025-03-24T10:41:55.188609Z"
    },
    "trusted": true
   },
   "outputs": [
    {
     "name": "stderr",
     "output_type": "stream",
     "text": [
      "Validate: 100%|██████████| 406/406 [00:05<00:00, 74.25it/s]\n"
     ]
    },
    {
     "name": "stdout",
     "output_type": "stream",
     "text": [
      "Val Loss: 0.5322 | Val Acc: 78.87%\n"
     ]
    },
    {
     "data": {
      "image/png": "[encoded data removed]",
      "text/plain": [
       "<Figure size 800x600 with 1 Axes>"
      ]
     },
     "metadata": {},
     "output_type": "display_data"
    }
   ],
   "source": [
    "# прогоняем валидацию и собираем данные\n",
    "confidences, corrects = validate_with_calibration(trainer, val_loader)\n",
    "\n",
    "prob_true, prob_pred = calibration_curve(corrects, confidences, n_bins=10)\n",
    "\n",
    "plt.figure(figsize=(8, 6))\n",
    "plt.plot(prob_pred, prob_true, marker='o', label='Model calibration')\n",
    "plt.plot([0, 1], [0, 1], linestyle='--', color='gray', label='Perfectly calibrated')\n",
    "plt.xlabel('Предсказанная вероятность')\n",
    "plt.ylabel('Доля правильных предсказаний')\n",
    "plt.title('Калибровочная кривая')\n",
    "plt.legend()\n",
    "plt.grid(True)\n",
    "plt.show()"
   ]
  },
  {
   "cell_type": "markdown",
   "metadata": {},
   "source": [
    "Поведение нашей модели близко к идеальному, это радует. "
   ]
  },
  {
   "cell_type": "markdown",
   "metadata": {},
   "source": [
    "### RNN(LSTM)"
   ]
  },
  {
   "cell_type": "markdown",
   "metadata": {},
   "source": [
    "Мы использовали обычную CNN,а теперь попробуем использовать рекурентную нейронную сеть. Возможно, ей лучше удастся уловить зависимости, которые не видны нашей StressConvNet?"
   ]
  },
  {
   "cell_type": "code",
   "execution_count": null,
   "metadata": {
    "execution": {
     "iopub.execute_input": "2025-03-24T11:54:36.983306Z",
     "iopub.status.busy": "2025-03-24T11:54:36.982953Z",
     "iopub.status.idle": "2025-03-24T11:54:36.994817Z",
     "shell.execute_reply": "2025-03-24T11:54:36.993821Z",
     "shell.execute_reply.started": "2025-03-24T11:54:36.983280Z"
    },
    "trusted": true
   },
   "outputs": [],
   "source": [
    "class StressLSTM(nn.Module):\n",
    "    def __init__(self, vocab_size, embedding_dim=64, hidden_dim=128, dropout=0.3):\n",
    "        super().__init__()\n",
    "\n",
    "        self.embedding = nn.Embedding(\n",
    "            num_embeddings=vocab_size + 1,\n",
    "            embedding_dim=embedding_dim,\n",
    "            padding_idx=0\n",
    "        )\n",
    "\n",
    "        self.lstm = nn.LSTM(\n",
    "            input_size=embedding_dim + 1,\n",
    "            hidden_size=hidden_dim,\n",
    "            batch_first=True,\n",
    "            bidirectional=True\n",
    "        )\n",
    "\n",
    "        self.dropout = nn.Dropout(dropout)\n",
    "        self.fc = nn.Linear(hidden_dim * 2, 1)\n",
    "\n",
    "    def forward(self, inputs):\n",
    "        padded_word_tensors, padded_vowel_masks, lengths = inputs\n",
    "\n",
    "        x_embed = self.embedding(padded_word_tensors)\n",
    "        vowel_mask_expanded = padded_vowel_masks.unsqueeze(-1)\n",
    "        x = torch.cat([x_embed, vowel_mask_expanded], dim=-1)\n",
    "\n",
    "        packed_input = nn.utils.rnn.pack_padded_sequence(x, lengths.cpu(), batch_first=True, enforce_sorted=False)\n",
    "        packed_output, _ = self.lstm(packed_input)\n",
    "        output, _ = nn.utils.rnn.pad_packed_sequence(packed_output, batch_first=True)\n",
    "\n",
    "        output = self.dropout(output)\n",
    "\n",
    "        logits_list = []\n",
    "        for i in range(output.size(0)):\n",
    "            mask = padded_vowel_masks[i].bool()\n",
    "            output_vowels_only = output[i][mask]\n",
    "\n",
    "            logits_vowels = self.fc(output_vowels_only).squeeze(-1)\n",
    "            logits_list.append(logits_vowels)\n",
    "\n",
    "        return logits_list\n",
    "\n",
    "\n",
    "model = StressLSTM(vocab_size=vocab_size)"
   ]
  },
  {
   "cell_type": "code",
   "execution_count": 59,
   "metadata": {
    "execution": {
     "iopub.execute_input": "2025-03-24T11:54:46.102054Z",
     "iopub.status.busy": "2025-03-24T11:54:46.101667Z",
     "iopub.status.idle": "2025-03-24T12:00:17.144592Z",
     "shell.execute_reply": "2025-03-24T12:00:17.143815Z",
     "shell.execute_reply.started": "2025-03-24T11:54:46.102025Z"
    },
    "trusted": true
   },
   "outputs": [
    {
     "name": "stdout",
     "output_type": "stream",
     "text": [
      "Starting fresh training with model StressLSTM\n",
      "Starting training at epoch 1 out of 15\n",
      "\n",
      "Epoch 1/15\n"
     ]
    },
    {
     "name": "stderr",
     "output_type": "stream",
     "text": [
      "Train: 100%|██████████| 1578/1578 [00:49<00:00, 31.64it/s]\n",
      "Validate: 100%|██████████| 406/406 [00:05<00:00, 73.38it/s]\n"
     ]
    },
    {
     "name": "stdout",
     "output_type": "stream",
     "text": [
      "Train Loss: 0.6528 | Train Acc: 72.82%\n",
      "Val Loss:   0.5966 | Val Acc:   75.57%\n",
      "Validation loss improved: inf --> 0.5966. Saving checkpoint.\n",
      "Saved new best model to best_stress_model.pt\n",
      "\n",
      "Epoch 2/15\n"
     ]
    },
    {
     "name": "stderr",
     "output_type": "stream",
     "text": [
      "Train: 100%|██████████| 1578/1578 [00:49<00:00, 31.81it/s]\n",
      "Validate: 100%|██████████| 406/406 [00:05<00:00, 74.11it/s]\n"
     ]
    },
    {
     "name": "stdout",
     "output_type": "stream",
     "text": [
      "Train Loss: 0.5054 | Train Acc: 79.19%\n",
      "Val Loss:   0.5586 | Val Acc:   77.79%\n",
      "Validation loss improved: 0.5966 --> 0.5586. Saving checkpoint.\n",
      "Saved new best model to best_stress_model.pt\n",
      "\n",
      "Epoch 3/15\n"
     ]
    },
    {
     "name": "stderr",
     "output_type": "stream",
     "text": [
      "Train: 100%|██████████| 1578/1578 [00:49<00:00, 31.83it/s]\n",
      "Validate: 100%|██████████| 406/406 [00:05<00:00, 74.57it/s]\n"
     ]
    },
    {
     "name": "stdout",
     "output_type": "stream",
     "text": [
      "Train Loss: 0.4321 | Train Acc: 82.63%\n",
      "Val Loss:   0.5126 | Val Acc:   79.28%\n",
      "Validation loss improved: 0.5586 --> 0.5126. Saving checkpoint.\n",
      "Saved new best model to best_stress_model.pt\n",
      "\n",
      "Epoch 4/15\n"
     ]
    },
    {
     "name": "stderr",
     "output_type": "stream",
     "text": [
      "Train: 100%|██████████| 1578/1578 [00:49<00:00, 31.81it/s]\n",
      "Validate: 100%|██████████| 406/406 [00:05<00:00, 73.89it/s]\n"
     ]
    },
    {
     "name": "stdout",
     "output_type": "stream",
     "text": [
      "Train Loss: 0.3690 | Train Acc: 85.32%\n",
      "Val Loss:   0.5223 | Val Acc:   80.08%\n",
      "No improvement for 1 epochs...\n",
      "\n",
      "Epoch 5/15\n"
     ]
    },
    {
     "name": "stderr",
     "output_type": "stream",
     "text": [
      "Train: 100%|██████████| 1578/1578 [00:49<00:00, 31.80it/s]\n",
      "Validate: 100%|██████████| 406/406 [00:05<00:00, 74.71it/s]\n"
     ]
    },
    {
     "name": "stdout",
     "output_type": "stream",
     "text": [
      "Train Loss: 0.3189 | Train Acc: 87.55%\n",
      "Val Loss:   0.5127 | Val Acc:   80.34%\n",
      "No improvement for 2 epochs...\n",
      "\n",
      "Epoch 6/15\n"
     ]
    },
    {
     "name": "stderr",
     "output_type": "stream",
     "text": [
      "Train: 100%|██████████| 1578/1578 [00:49<00:00, 31.96it/s]\n",
      "Validate: 100%|██████████| 406/406 [00:05<00:00, 78.21it/s]\n",
      "<ipython-input-52-68e0317e3f15>:184: FutureWarning: You are using `torch.load` with `weights_only=False` (the current default value), which uses the default pickle module implicitly. It is possible to construct malicious pickle data which will execute arbitrary code during unpickling (See https://github.com/pytorch/pytorch/blob/main/SECURITY.md#untrusted-models for more details). In a future release, the default value for `weights_only` will be flipped to `True`. This limits the functions that could be executed during unpickling. Arbitrary objects will no longer be allowed to be loaded via this mode unless they are explicitly allowlisted by the user via `torch.serialization.add_safe_globals`. We recommend you start setting `weights_only=True` for any use case where you don't have full control of the loaded file. Please open an issue on GitHub for any issues related to this experimental feature.\n",
      "  checkpoint = torch.load(self.checkpoint_path, map_location=self.device)\n"
     ]
    },
    {
     "name": "stdout",
     "output_type": "stream",
     "text": [
      "Train Loss: 0.2770 | Train Acc: 89.34%\n",
      "Val Loss:   0.5245 | Val Acc:   80.49%\n",
      "No improvement for 3 epochs...\n",
      "\n",
      "Early stopping triggered. Loading best checkpoint...\n",
      "Loaded checkpoint from best_stress_model.pt. Resuming from epoch 4.\n",
      "\n",
      "Training finished. Loading best model...\n",
      "Loaded checkpoint from best_stress_model.pt. Resuming from epoch 4.\n",
      "Training plots saved to /kaggle/working/training_plot.png\n"
     ]
    },
    {
     "data": {
      "image/png": "[encoded data removed]",
      "text/plain": [
       "<Figure size 1200x500 with 2 Axes>"
      ]
     },
     "metadata": {},
     "output_type": "display_data"
    }
   ],
   "source": [
    "trainer = Trainer(\n",
    "    model=model,\n",
    "    train_loader=train_loader,\n",
    "    val_loader=val_loader,\n",
    "    device='cuda' if torch.cuda.is_available() else 'cpu',\n",
    "    lr=1e-3,\n",
    "    epochs=15,\n",
    "    patience=3,\n",
    "    checkpoint_path='best_stress_model.pt'\n",
    ")\n",
    "\n",
    "trainer.train()"
   ]
  },
  {
   "cell_type": "code",
   "execution_count": 63,
   "metadata": {
    "execution": {
     "iopub.execute_input": "2025-03-24T12:03:54.230229Z",
     "iopub.status.busy": "2025-03-24T12:03:54.229876Z",
     "iopub.status.idle": "2025-03-24T12:04:00.256294Z",
     "shell.execute_reply": "2025-03-24T12:04:00.255398Z",
     "shell.execute_reply.started": "2025-03-24T12:03:54.230205Z"
    },
    "trusted": true
   },
   "outputs": [
    {
     "name": "stderr",
     "output_type": "stream",
     "text": [
      "Validate: 100%|██████████| 406/406 [00:05<00:00, 69.86it/s]\n"
     ]
    },
    {
     "name": "stdout",
     "output_type": "stream",
     "text": [
      "Val Loss: 0.5126 | Val Acc: 79.28%\n"
     ]
    },
    {
     "data": {
      "image/png": "[encoded data removed]",
      "text/plain": [
       "<Figure size 800x600 with 1 Axes>"
      ]
     },
     "metadata": {},
     "output_type": "display_data"
    }
   ],
   "source": [
    "confidences, corrects = validate_with_calibration(trainer, val_loader)\n",
    "\n",
    "prob_true, prob_pred = calibration_curve(corrects, confidences, n_bins=10)\n",
    "\n",
    "plt.figure(figsize=(8, 6))\n",
    "plt.plot(prob_pred, prob_true, marker='o', label='Model calibration')\n",
    "plt.plot([0, 1], [0, 1], linestyle='--', color='gray', label='Perfectly calibrated')\n",
    "plt.xlabel('Предсказанная вероятность')\n",
    "plt.ylabel('Доля правильных предсказаний')\n",
    "plt.title('Калибровочная кривая')\n",
    "plt.legend()\n",
    "plt.grid(True)\n",
    "plt.show()"
   ]
  },
  {
   "cell_type": "markdown",
   "metadata": {},
   "source": [
    "Вывод: обчилась быстрее, на 3-й эпохе вышла на качество чуть выше StressConvNet (когда ей понадобилось 15 эпох), а дальше вышла на плато. LSTM посложнее, поэтому больше подвержена проблеме переуверенности, но в целом ненамного хуже StressConvNet в этом плане."
   ]
  },
  {
   "cell_type": "markdown",
   "metadata": {},
   "source": [
    "### Дополнительные признаки"
   ]
  },
  {
   "cell_type": "markdown",
   "metadata": {},
   "source": [
    "А что, если попробовать добавить признаков модели, например, передать не только маску гласных, но и позицию символа в слове и позицию гласных среди гласных как дполнительные признаки? Для этого изменим уже имеющиеся класс `Dataset` и `collate_fn`. "
   ]
  },
  {
   "cell_type": "code",
   "execution_count": null,
   "metadata": {
    "execution": {
     "iopub.execute_input": "2025-03-24T12:14:13.659926Z",
     "iopub.status.busy": "2025-03-24T12:14:13.659519Z",
     "iopub.status.idle": "2025-03-24T12:14:13.672890Z",
     "shell.execute_reply": "2025-03-24T12:14:13.671313Z",
     "shell.execute_reply.started": "2025-03-24T12:14:13.659887Z"
    },
    "trusted": true
   },
   "outputs": [],
   "source": [
    "class StressDataset(Dataset):\n",
    "    def __init__(self, csv_path_or_df, char2idx, is_test=False):\n",
    "        \"\"\"\n",
    "        csv_path_or_df: путь к .csv или готовый pandas DataFrame\n",
    "        char2idx: вручную созданный словарь {символ: индекс}\n",
    "        is_test: если True, то нет метки stress\n",
    "        \"\"\"\n",
    "        if isinstance(csv_path_or_df, str):\n",
    "            self.data = pd.read_csv(csv_path_or_df)\n",
    "        elif isinstance(csv_path_or_df, pd.DataFrame):\n",
    "            self.data = csv_path_or_df.copy()\n",
    "        else:\n",
    "            raise ValueError(\"csv_path_or_df должен быть либо строкой (путь к файлу), либо DataFrame\")\n",
    "\n",
    "        self.is_test = is_test\n",
    "        self.char2idx = char2idx\n",
    "        \n",
    "    def __len__(self):\n",
    "        return len(self.data)\n",
    "\n",
    "    def encode_word(self, word):\n",
    "        \"\"\"\n",
    "        Преобразует слово в список индексов, маску гласных,\n",
    "        нормированные позиции символов и гласных.\n",
    "        \"\"\"\n",
    "        word_encoded = []\n",
    "        vowels_mask = []\n",
    "        norm_char_pos = []\n",
    "        norm_vowel_pos = []\n",
    "\n",
    "        word_len = len(word)\n",
    "        num_vowels = sum(1 for char in word if char in VOWELS)\n",
    "\n",
    "        current_vowel_idx = 0\n",
    "\n",
    "        for i, char in enumerate(word):\n",
    "            idx = self.char2idx.get(char, self.char2idx.get('<unk>'))\n",
    "            word_encoded.append(idx)\n",
    "\n",
    "            # маска гласных\n",
    "            is_vowel = 1 if char in VOWELS else 0\n",
    "            vowels_mask.append(is_vowel)\n",
    "\n",
    "            # нормированная позиция символа\n",
    "            norm_char = i / (word_len - 1) if word_len > 1 else 0.0\n",
    "            norm_char_pos.append(norm_char)\n",
    "\n",
    "            # нормированная позиция гласной\n",
    "            if is_vowel and num_vowels > 1:\n",
    "                norm_vowel = current_vowel_idx / (num_vowels - 1)\n",
    "                current_vowel_idx += 1\n",
    "            elif is_vowel and num_vowels == 1:\n",
    "                norm_vowel = 0.0\n",
    "                current_vowel_idx += 1\n",
    "            else:\n",
    "                norm_vowel = -1.0\n",
    "\n",
    "            norm_vowel_pos.append(norm_vowel)\n",
    "\n",
    "        return (\n",
    "            torch.tensor(word_encoded, dtype=torch.long),      \n",
    "            torch.tensor(vowels_mask, dtype=torch.float),      \n",
    "            torch.tensor(norm_char_pos, dtype=torch.float),    \n",
    "            torch.tensor(norm_vowel_pos, dtype=torch.float)    \n",
    "        )\n",
    "\n",
    "    def __getitem__(self, idx):\n",
    "        \"\"\"\n",
    "        Возвращает один элемент из датасета по индексу idx датасета.\n",
    "        \"\"\"\n",
    "        row = self.data.iloc[idx]\n",
    "        word_tensor, vowel_mask, norm_char_pos, norm_vowel_pos = self.encode_word(row['word'])\n",
    "\n",
    "        if self.is_test:\n",
    "            item_id = row['id'] if 'id' in row else idx\n",
    "            return (word_tensor, vowel_mask, norm_char_pos, norm_vowel_pos), item_id\n",
    "\n",
    "        stress_label = torch.tensor(row['stress'], dtype=torch.long)\n",
    "\n",
    "        return (word_tensor, vowel_mask, norm_char_pos, norm_vowel_pos), stress_label"
   ]
  },
  {
   "cell_type": "code",
   "execution_count": 65,
   "metadata": {
    "execution": {
     "iopub.execute_input": "2025-03-24T12:15:33.099043Z",
     "iopub.status.busy": "2025-03-24T12:15:33.098649Z",
     "iopub.status.idle": "2025-03-24T12:15:33.106103Z",
     "shell.execute_reply": "2025-03-24T12:15:33.105299Z",
     "shell.execute_reply.started": "2025-03-24T12:15:33.099012Z"
    },
    "trusted": true
   },
   "outputs": [],
   "source": [
    "def collate_fn(batch):\n",
    "    word_tensors = []\n",
    "    vowel_masks = []\n",
    "    norm_char_pos_list = []\n",
    "    norm_vowel_pos_list = []\n",
    "    lengths = []\n",
    "    targets_or_ids = []\n",
    "\n",
    "    target = batch[0][1]\n",
    "    is_test = not torch.is_tensor(target)\n",
    "\n",
    "    for (word_tensor, vowel_mask, norm_char_pos, norm_vowel_pos), target_or_id in batch:\n",
    "        word_tensors.append(word_tensor)\n",
    "        vowel_masks.append(vowel_mask)\n",
    "        norm_char_pos_list.append(norm_char_pos)\n",
    "        norm_vowel_pos_list.append(norm_vowel_pos)\n",
    "        lengths.append(len(word_tensor))\n",
    "        targets_or_ids.append(target_or_id)\n",
    "\n",
    "    padded_word_tensors = pad_sequence(word_tensors, batch_first=True, padding_value=0)\n",
    "    padded_vowel_masks = pad_sequence(vowel_masks, batch_first=True, padding_value=0.0)\n",
    "    padded_norm_char_pos = pad_sequence(norm_char_pos_list, batch_first=True, padding_value=0.0)\n",
    "    padded_norm_vowel_pos = pad_sequence(norm_vowel_pos_list, batch_first=True, padding_value=-1.0)\n",
    "\n",
    "    lengths = torch.tensor(lengths, dtype=torch.long)\n",
    "\n",
    "    if is_test:\n",
    "        batch_ids = [int(i) for i in targets_or_ids]\n",
    "        return (padded_word_tensors, padded_vowel_masks, lengths, padded_norm_char_pos, padded_norm_vowel_pos), batch_ids\n",
    "    else:\n",
    "        stress_labels = torch.stack(targets_or_ids)\n",
    "        return (padded_word_tensors, padded_vowel_masks, lengths, padded_norm_char_pos, padded_norm_vowel_pos), stress_labels"
   ]
  },
  {
   "cell_type": "code",
   "execution_count": 66,
   "metadata": {
    "execution": {
     "iopub.execute_input": "2025-03-24T12:16:22.031313Z",
     "iopub.status.busy": "2025-03-24T12:16:22.030999Z",
     "iopub.status.idle": "2025-03-24T12:16:22.100839Z",
     "shell.execute_reply": "2025-03-24T12:16:22.099607Z",
     "shell.execute_reply.started": "2025-03-24T12:16:22.031291Z"
    },
    "trusted": true
   },
   "outputs": [],
   "source": [
    "train_dataset = StressDataset(train_split, char2idx=char2idx, is_test=False)\n",
    "val_dataset = StressDataset(val_split, char2idx=char2idx, is_test=False)\n",
    "test_dataset = StressDataset('/kaggle/input/silero-stress-predictor/test.csv', char2idx=char2idx, is_test=True)\n",
    "\n",
    "train_loader = torch.utils.data.DataLoader(\n",
    "    train_dataset, batch_size=32, shuffle=True, collate_fn=collate_fn\n",
    ")\n",
    "val_loader = torch.utils.data.DataLoader(\n",
    "    val_dataset, batch_size=32, shuffle=False, collate_fn=collate_fn\n",
    ")\n",
    "test_loader = torch.utils.data.DataLoader(\n",
    "    test_dataset, batch_size=32, shuffle=False, collate_fn=collate_fn\n",
    ")\n",
    "\n",
    "vocab_size = len(train_dataset.char2idx)"
   ]
  },
  {
   "cell_type": "markdown",
   "metadata": {},
   "source": [
    "Теперь попробуем использовать модели на новых данных."
   ]
  },
  {
   "cell_type": "code",
   "execution_count": null,
   "metadata": {
    "execution": {
     "iopub.execute_input": "2025-03-24T12:24:49.063291Z",
     "iopub.status.busy": "2025-03-24T12:24:49.062969Z",
     "iopub.status.idle": "2025-03-24T12:24:49.074229Z",
     "shell.execute_reply": "2025-03-24T12:24:49.073637Z",
     "shell.execute_reply.started": "2025-03-24T12:24:49.063268Z"
    },
    "trusted": true
   },
   "outputs": [],
   "source": [
    "class StressConvNet(nn.Module):\n",
    "    def __init__(self, vocab_size, dropout=0.3):\n",
    "        super().__init__()\n",
    "\n",
    "        self.embedding_dim = 64\n",
    "        self.n_out_channels = 64\n",
    "\n",
    "        # +3: vowel_mask, norm_char_pos, norm_vowel_pos\n",
    "        self.input_features_dim = self.embedding_dim + 3\n",
    "\n",
    "        self.embedding = nn.Embedding(\n",
    "            num_embeddings=vocab_size + 1,  # +1 для паддинга\n",
    "            embedding_dim=self.embedding_dim,\n",
    "            padding_idx=0\n",
    "        )\n",
    "\n",
    "        self.conv1_block = nn.Sequential(\n",
    "            nn.Conv1d(self.input_features_dim, self.n_out_channels, kernel_size=3, padding=1),\n",
    "            nn.BatchNorm1d(self.n_out_channels),\n",
    "            nn.ReLU(),\n",
    "            nn.Dropout(dropout)\n",
    "        )\n",
    "\n",
    "        self.conv2_block = nn.Sequential(\n",
    "            nn.Conv1d(self.n_out_channels, self.n_out_channels, kernel_size=3, padding=1),\n",
    "            nn.BatchNorm1d(self.n_out_channels),\n",
    "            nn.ReLU(),\n",
    "            nn.Dropout(dropout)\n",
    "        )\n",
    "\n",
    "        self.conv3_block = nn.Sequential(\n",
    "            nn.Conv1d(self.n_out_channels, self.n_out_channels, kernel_size=3, padding=1),\n",
    "            nn.BatchNorm1d(self.n_out_channels),\n",
    "            nn.ReLU(),\n",
    "            nn.Dropout(dropout)\n",
    "        )\n",
    "\n",
    "        self.fc = nn.Linear(self.n_out_channels, 1)\n",
    "\n",
    "    def forward(self, inputs):\n",
    "        padded_word_tensors, padded_vowel_masks, lengths, norm_char_pos, norm_vowel_pos = inputs\n",
    "        x_embed = self.embedding(padded_word_tensors)\n",
    "\n",
    "        # Дополнительные признаки\n",
    "        vowel_mask_expanded = padded_vowel_masks.unsqueeze(-1)\n",
    "        norm_char_pos_expanded = norm_char_pos.unsqueeze(-1)\n",
    "        norm_vowel_pos_expanded = norm_vowel_pos.unsqueeze(-1)\n",
    "\n",
    "        x = torch.cat([x_embed, vowel_mask_expanded, norm_char_pos_expanded, norm_vowel_pos_expanded], dim=-1)     # -> [batch_size, seq_len, embedding_dim + 3]\n",
    "        x = x.permute(0, 2, 1)  # -> [batch_size, channels, seq_len]\n",
    "\n",
    "        x = self.conv1_block(x)\n",
    "        x = self.conv2_block(x)\n",
    "        x = self.conv3_block(x)\n",
    "\n",
    "        x = x.permute(0, 2, 1)  # -> [batch_size, seq_len, conv_filters]\n",
    "\n",
    "        logits_list = []\n",
    "        for i in range(x.size(0)):\n",
    "            mask = padded_vowel_masks[i].bool()\n",
    "            x_vowels_only = x[i][mask]\n",
    "\n",
    "            logits_vowels = self.fc(x_vowels_only)\n",
    "            logits_vowels = logits_vowels.squeeze(-1)\n",
    "            logits_list.append(logits_vowels)\n",
    "\n",
    "        return logits_list\n",
    "\n",
    "model = StressConvNet(vocab_size=vocab_size)"
   ]
  },
  {
   "cell_type": "code",
   "execution_count": null,
   "metadata": {
    "execution": {
     "iopub.execute_input": "2025-03-24T14:45:38.619776Z",
     "iopub.status.busy": "2025-03-24T14:45:38.619449Z",
     "iopub.status.idle": "2025-03-24T14:45:38.642464Z",
     "shell.execute_reply": "2025-03-24T14:45:38.641815Z",
     "shell.execute_reply.started": "2025-03-24T14:45:38.619751Z"
    },
    "trusted": true
   },
   "outputs": [],
   "source": [
    "class Trainer:\n",
    "    def __init__(self, model, train_loader, val_loader, device,\n",
    "                 lr=1e-3, epochs=10, patience=3,\n",
    "                 checkpoint_path='best_model.pt',\n",
    "                 plot_path='training_plot.png',\n",
    "                 optimizer=None, scheduler=None,\n",
    "                 resume=False):\n",
    "        \n",
    "        self.model = model.to(device)\n",
    "        self.train_loader = train_loader\n",
    "        self.val_loader = val_loader\n",
    "        self.device = device\n",
    "\n",
    "        if optimizer is not None:\n",
    "            self.optimizer = optimizer\n",
    "        else:\n",
    "            self.optimizer = torch.optim.Adam(self.model.parameters(), lr=lr)\n",
    "        self.scheduler = scheduler\n",
    "            \n",
    "        self.epochs = epochs\n",
    "        self.patience = patience\n",
    "        self.checkpoint_path = checkpoint_path\n",
    "        self.plot_path = plot_path\n",
    "\n",
    "        self.current_epoch = 0\n",
    "        self.best_val_loss = float('inf')\n",
    "        self.no_improvement_count = 0\n",
    "\n",
    "        self.train_losses = []\n",
    "        self.val_losses = []\n",
    "        self.val_accuracies = []\n",
    "\n",
    "        if resume:\n",
    "            self.load_checkpoint()\n",
    "        else:\n",
    "            print(f\"Starting fresh training with model {self.model.__class__.__name__}\")\n",
    "\n",
    "    def train(self):\n",
    "        total_epochs = self.current_epoch + self.epochs\n",
    "        print(f\"Starting training at epoch {self.current_epoch + 1} out of {total_epochs}\")\n",
    "\n",
    "        for epoch in range(self.current_epoch + 1, total_epochs + 1):\n",
    "            print(f\"\\nEpoch {epoch}/{total_epochs}\")\n",
    "\n",
    "            train_loss, train_acc = self.train_epoch()\n",
    "            val_loss, val_acc = self.validate_epoch()\n",
    "\n",
    "            self.train_losses.append(train_loss)\n",
    "            self.val_losses.append(val_loss)\n",
    "            self.val_accuracies.append(val_acc)\n",
    "\n",
    "            print(f\"Train Loss: {train_loss:.4f} | Train Acc: {train_acc:.2f}%\")\n",
    "            print(f\"Val Loss:   {val_loss:.4f} | Val Acc:   {val_acc:.2f}%\")\n",
    "\n",
    "            if self.scheduler is not None:\n",
    "                self.scheduler.step()\n",
    "\n",
    "            if val_loss <= self.best_val_loss:\n",
    "                print(f\"Validation loss improved: {self.best_val_loss:.4f} --> {val_loss:.4f}. Saving checkpoint.\")\n",
    "                self.best_val_loss = val_loss\n",
    "                self.no_improvement_count = 0\n",
    "                self.current_epoch = epoch\n",
    "                self.save_checkpoint()\n",
    "            else:\n",
    "                self.no_improvement_count += 1\n",
    "                print(f\"No improvement for {self.no_improvement_count} epochs...\")\n",
    "\n",
    "            if self.no_improvement_count >= self.patience:\n",
    "                print(\"\\nEarly stopping triggered. Loading best checkpoint...\")\n",
    "                self.load_checkpoint()\n",
    "                break\n",
    "\n",
    "        print(\"\\nTraining finished. Loading best model...\")\n",
    "        self.load_checkpoint()\n",
    "        self.plot_training()\n",
    "\n",
    "    def train_epoch(self):\n",
    "        self.model.train()\n",
    "        total_loss = 0\n",
    "        total_correct = 0\n",
    "        total_samples = 0\n",
    "\n",
    "        for (padded_word_tensors, padded_vowel_masks, lengths, norm_char_pos, norm_vowel_pos), stress_labels in tqdm(self.train_loader, desc='Train'):\n",
    "\n",
    "            padded_word_tensors = padded_word_tensors.to(self.device)\n",
    "            padded_vowel_masks = padded_vowel_masks.to(self.device)\n",
    "            lengths = lengths.to(self.device)\n",
    "            norm_char_pos = norm_char_pos.to(self.device)\n",
    "            norm_vowel_pos = norm_vowel_pos.to(self.device)\n",
    "            stress_labels = stress_labels.to(self.device)\n",
    "\n",
    "            logits_list = self.model((padded_word_tensors, padded_vowel_masks, lengths, norm_char_pos, norm_vowel_pos))\n",
    "\n",
    "            losses = []\n",
    "            correct_preds = 0\n",
    "\n",
    "            for i in range(len(logits_list)):\n",
    "                logits = logits_list[i]\n",
    "                target = stress_labels[i] - 1\n",
    "\n",
    "                loss = F.cross_entropy(logits.unsqueeze(0), target.unsqueeze(0))\n",
    "                losses.append(loss)\n",
    "\n",
    "                pred = logits.argmax().item()\n",
    "                if pred == target.item():\n",
    "                    correct_preds += 1\n",
    "\n",
    "            if len(losses) == 0:\n",
    "                continue\n",
    "\n",
    "            batch_loss = torch.stack(losses).mean()\n",
    "\n",
    "            self.optimizer.zero_grad()\n",
    "            batch_loss.backward()\n",
    "            self.optimizer.step()\n",
    "\n",
    "            total_loss += batch_loss.item() * len(logits_list)\n",
    "            total_correct += correct_preds\n",
    "            total_samples += len(logits_list)\n",
    "\n",
    "        avg_loss = total_loss / total_samples if total_samples > 0 else 0\n",
    "        accuracy = total_correct / total_samples * 100 if total_samples > 0 else 0\n",
    "        return avg_loss, accuracy\n",
    "\n",
    "    @torch.no_grad()\n",
    "    def validate_epoch(self):\n",
    "        self.model.eval()\n",
    "        total_loss = 0\n",
    "        total_correct = 0\n",
    "        total_samples = 0\n",
    "\n",
    "        for (padded_word_tensors, padded_vowel_masks, lengths, norm_char_pos, norm_vowel_pos), stress_labels in tqdm(self.val_loader, desc='Validate'):\n",
    "            padded_word_tensors = padded_word_tensors.to(self.device)\n",
    "            padded_vowel_masks = padded_vowel_masks.to(self.device)\n",
    "            lengths = lengths.to(self.device)\n",
    "            norm_char_pos = norm_char_pos.to(self.device)\n",
    "            norm_vowel_pos = norm_vowel_pos.to(self.device)\n",
    "            stress_labels = stress_labels.to(self.device)\n",
    "\n",
    "            logits_list = self.model((padded_word_tensors, padded_vowel_masks, lengths, norm_char_pos, norm_vowel_pos))\n",
    "\n",
    "            losses = []\n",
    "            correct_preds = 0\n",
    "\n",
    "            for i in range(len(logits_list)):\n",
    "                logits = logits_list[i]\n",
    "                target = stress_labels[i] - 1\n",
    "\n",
    "                loss = F.cross_entropy(logits.unsqueeze(0), target.unsqueeze(0))\n",
    "                losses.append(loss)\n",
    "\n",
    "                pred = logits.argmax().item()\n",
    "                if pred == target.item():\n",
    "                    correct_preds += 1\n",
    "\n",
    "            if len(losses) == 0:\n",
    "                continue\n",
    "\n",
    "            batch_loss = torch.stack(losses).mean()\n",
    "\n",
    "            total_loss += batch_loss.item() * len(logits_list)\n",
    "            total_correct += correct_preds\n",
    "            total_samples += len(logits_list)\n",
    "\n",
    "        avg_loss = total_loss / total_samples if total_samples > 0 else 0\n",
    "        accuracy = total_correct / total_samples * 100 if total_samples > 0 else 0\n",
    "        return avg_loss, accuracy\n",
    "\n",
    "    def save_checkpoint(self):\n",
    "        checkpoint = {\n",
    "            'model_state_dict': self.model.state_dict(),\n",
    "            'optimizer_state_dict': self.optimizer.state_dict(),\n",
    "            'epoch': self.current_epoch,\n",
    "            'best_val_loss': self.best_val_loss,\n",
    "            'no_improvement_count': self.no_improvement_count,\n",
    "            'train_losses': self.train_losses,\n",
    "            'val_losses': self.val_losses,\n",
    "            'val_accuracies': self.val_accuracies\n",
    "        }\n",
    "        torch.save(checkpoint, self.checkpoint_path)\n",
    "        print(f\"Saved new best model to {self.checkpoint_path}\")\n",
    "\n",
    "    def load_checkpoint(self):\n",
    "        if os.path.exists(self.checkpoint_path):\n",
    "            try:\n",
    "                checkpoint = torch.load(self.checkpoint_path, map_location=self.device)\n",
    "                self.model.load_state_dict(checkpoint['model_state_dict'])\n",
    "                self.optimizer.load_state_dict(checkpoint['optimizer_state_dict'])\n",
    "\n",
    "                self.current_epoch = checkpoint.get('epoch', 0)\n",
    "                self.best_val_loss = checkpoint.get('best_val_loss', float('inf'))\n",
    "                self.no_improvement_count = checkpoint.get('no_improvement_count', 0)\n",
    "                self.train_losses = checkpoint.get('train_losses', [])\n",
    "                self.val_losses = checkpoint.get('val_losses', [])\n",
    "                self.val_accuracies = checkpoint.get('val_accuracies', [])\n",
    "\n",
    "                print(f\"Loaded checkpoint from {self.checkpoint_path}. Resuming from epoch {self.current_epoch + 1}.\")\n",
    "            except RuntimeError as e:\n",
    "                print(f\"Error loading checkpoint: {e}\")\n",
    "                print(\"Checkpoint not compatible with current model. Starting from scratch.\")\n",
    "                self.current_epoch = 0\n",
    "        else:\n",
    "            print(f\"No checkpoint found at {self.checkpoint_path}\")\n",
    "            self.current_epoch = 0\n",
    "\n",
    "    def plot_training(self):\n",
    "        if not self.train_losses:\n",
    "            print(\"No training data to plot.\")\n",
    "            return\n",
    "        \n",
    "        epochs_range = range(1, len(self.train_losses) + 1)\n",
    "\n",
    "        plt.figure(figsize=(12, 5))\n",
    "\n",
    "        plt.subplot(1, 2, 1)\n",
    "        plt.plot(epochs_range, self.train_losses, label='Train Loss')\n",
    "        plt.plot(epochs_range, self.val_losses, label='Val Loss')\n",
    "        plt.xlabel('Epoch')\n",
    "        plt.ylabel('Loss')\n",
    "        plt.legend()\n",
    "        plt.title('Loss per Epoch')\n",
    "\n",
    "        plt.subplot(1, 2, 2)\n",
    "        plt.plot(epochs_range, self.val_accuracies, label='Val Accuracy', color='green')\n",
    "        plt.xlabel('Epoch')\n",
    "        plt.ylabel('Accuracy (%)')\n",
    "        plt.legend()\n",
    "        plt.title('Validation Accuracy per Epoch')\n",
    "\n",
    "        plt.tight_layout()\n",
    "        plt.savefig(self.plot_path)\n",
    "        print(f\"Training plots saved to {self.plot_path}\")\n",
    "        plt.show()\n"
   ]
  },
  {
   "cell_type": "code",
   "execution_count": 72,
   "metadata": {
    "execution": {
     "iopub.execute_input": "2025-03-24T12:24:52.071327Z",
     "iopub.status.busy": "2025-03-24T12:24:52.071076Z",
     "iopub.status.idle": "2025-03-24T12:37:58.274791Z",
     "shell.execute_reply": "2025-03-24T12:37:58.273803Z",
     "shell.execute_reply.started": "2025-03-24T12:24:52.071307Z"
    },
    "trusted": true
   },
   "outputs": [
    {
     "name": "stdout",
     "output_type": "stream",
     "text": [
      "Starting fresh training with model StressConvNet\n",
      "Starting training at epoch 1 out of 15\n",
      "\n",
      "Epoch 1/15\n"
     ]
    },
    {
     "name": "stderr",
     "output_type": "stream",
     "text": [
      "Train: 100%|██████████| 1578/1578 [00:45<00:00, 34.51it/s]\n",
      "Validate: 100%|██████████| 406/406 [00:05<00:00, 72.55it/s]\n"
     ]
    },
    {
     "name": "stdout",
     "output_type": "stream",
     "text": [
      "Train Loss: 0.7594 | Train Acc: 68.37%\n",
      "Val Loss:   0.6675 | Val Acc:   73.96%\n",
      "Validation loss improved: inf --> 0.6675. Saving checkpoint.\n",
      "Saved new best model to best_stress_model.pt\n",
      "\n",
      "Epoch 2/15\n"
     ]
    },
    {
     "name": "stderr",
     "output_type": "stream",
     "text": [
      "Train: 100%|██████████| 1578/1578 [00:46<00:00, 33.94it/s]\n",
      "Validate: 100%|██████████| 406/406 [00:05<00:00, 73.88it/s]\n"
     ]
    },
    {
     "name": "stdout",
     "output_type": "stream",
     "text": [
      "Train Loss: 0.6518 | Train Acc: 73.49%\n",
      "Val Loss:   0.6142 | Val Acc:   75.44%\n",
      "Validation loss improved: 0.6675 --> 0.6142. Saving checkpoint.\n",
      "Saved new best model to best_stress_model.pt\n",
      "\n",
      "Epoch 3/15\n"
     ]
    },
    {
     "name": "stderr",
     "output_type": "stream",
     "text": [
      "Train: 100%|██████████| 1578/1578 [00:47<00:00, 33.49it/s]\n",
      "Validate: 100%|██████████| 406/406 [00:05<00:00, 72.44it/s]\n"
     ]
    },
    {
     "name": "stdout",
     "output_type": "stream",
     "text": [
      "Train Loss: 0.6167 | Train Acc: 75.06%\n",
      "Val Loss:   0.5978 | Val Acc:   75.79%\n",
      "Validation loss improved: 0.6142 --> 0.5978. Saving checkpoint.\n",
      "Saved new best model to best_stress_model.pt\n",
      "\n",
      "Epoch 4/15\n"
     ]
    },
    {
     "name": "stderr",
     "output_type": "stream",
     "text": [
      "Train: 100%|██████████| 1578/1578 [00:46<00:00, 33.62it/s]\n",
      "Validate: 100%|██████████| 406/406 [00:05<00:00, 73.96it/s]\n"
     ]
    },
    {
     "name": "stdout",
     "output_type": "stream",
     "text": [
      "Train Loss: 0.5923 | Train Acc: 76.11%\n",
      "Val Loss:   0.5762 | Val Acc:   76.63%\n",
      "Validation loss improved: 0.5978 --> 0.5762. Saving checkpoint.\n",
      "Saved new best model to best_stress_model.pt\n",
      "\n",
      "Epoch 5/15\n"
     ]
    },
    {
     "name": "stderr",
     "output_type": "stream",
     "text": [
      "Train: 100%|██████████| 1578/1578 [00:46<00:00, 34.12it/s]\n",
      "Validate: 100%|██████████| 406/406 [00:05<00:00, 75.16it/s]\n"
     ]
    },
    {
     "name": "stdout",
     "output_type": "stream",
     "text": [
      "Train Loss: 0.5737 | Train Acc: 76.63%\n",
      "Val Loss:   0.5707 | Val Acc:   76.49%\n",
      "Validation loss improved: 0.5762 --> 0.5707. Saving checkpoint.\n",
      "Saved new best model to best_stress_model.pt\n",
      "\n",
      "Epoch 6/15\n"
     ]
    },
    {
     "name": "stderr",
     "output_type": "stream",
     "text": [
      "Train: 100%|██████████| 1578/1578 [00:46<00:00, 33.93it/s]\n",
      "Validate: 100%|██████████| 406/406 [00:05<00:00, 72.40it/s]\n"
     ]
    },
    {
     "name": "stdout",
     "output_type": "stream",
     "text": [
      "Train Loss: 0.5653 | Train Acc: 77.19%\n",
      "Val Loss:   0.5578 | Val Acc:   77.96%\n",
      "Validation loss improved: 0.5707 --> 0.5578. Saving checkpoint.\n",
      "Saved new best model to best_stress_model.pt\n",
      "\n",
      "Epoch 7/15\n"
     ]
    },
    {
     "name": "stderr",
     "output_type": "stream",
     "text": [
      "Train: 100%|██████████| 1578/1578 [00:47<00:00, 33.22it/s]\n",
      "Validate: 100%|██████████| 406/406 [00:05<00:00, 72.51it/s]\n"
     ]
    },
    {
     "name": "stdout",
     "output_type": "stream",
     "text": [
      "Train Loss: 0.5480 | Train Acc: 77.64%\n",
      "Val Loss:   0.5499 | Val Acc:   78.38%\n",
      "Validation loss improved: 0.5578 --> 0.5499. Saving checkpoint.\n",
      "Saved new best model to best_stress_model.pt\n",
      "\n",
      "Epoch 8/15\n"
     ]
    },
    {
     "name": "stderr",
     "output_type": "stream",
     "text": [
      "Train: 100%|██████████| 1578/1578 [00:46<00:00, 33.68it/s]\n",
      "Validate: 100%|██████████| 406/406 [00:05<00:00, 72.99it/s]\n"
     ]
    },
    {
     "name": "stdout",
     "output_type": "stream",
     "text": [
      "Train Loss: 0.5401 | Train Acc: 78.19%\n",
      "Val Loss:   0.5458 | Val Acc:   78.37%\n",
      "Validation loss improved: 0.5499 --> 0.5458. Saving checkpoint.\n",
      "Saved new best model to best_stress_model.pt\n",
      "\n",
      "Epoch 9/15\n"
     ]
    },
    {
     "name": "stderr",
     "output_type": "stream",
     "text": [
      "Train: 100%|██████████| 1578/1578 [00:47<00:00, 33.45it/s]\n",
      "Validate: 100%|██████████| 406/406 [00:05<00:00, 73.92it/s]\n"
     ]
    },
    {
     "name": "stdout",
     "output_type": "stream",
     "text": [
      "Train Loss: 0.5326 | Train Acc: 78.38%\n",
      "Val Loss:   0.5347 | Val Acc:   78.69%\n",
      "Validation loss improved: 0.5458 --> 0.5347. Saving checkpoint.\n",
      "Saved new best model to best_stress_model.pt\n",
      "\n",
      "Epoch 10/15\n"
     ]
    },
    {
     "name": "stderr",
     "output_type": "stream",
     "text": [
      "Train: 100%|██████████| 1578/1578 [00:47<00:00, 33.10it/s]\n",
      "Validate: 100%|██████████| 406/406 [00:05<00:00, 73.72it/s]\n"
     ]
    },
    {
     "name": "stdout",
     "output_type": "stream",
     "text": [
      "Train Loss: 0.5264 | Train Acc: 78.61%\n",
      "Val Loss:   0.5338 | Val Acc:   78.89%\n",
      "Validation loss improved: 0.5347 --> 0.5338. Saving checkpoint.\n",
      "Saved new best model to best_stress_model.pt\n",
      "\n",
      "Epoch 11/15\n"
     ]
    },
    {
     "name": "stderr",
     "output_type": "stream",
     "text": [
      "Train: 100%|██████████| 1578/1578 [00:47<00:00, 33.54it/s]\n",
      "Validate: 100%|██████████| 406/406 [00:05<00:00, 73.57it/s]\n"
     ]
    },
    {
     "name": "stdout",
     "output_type": "stream",
     "text": [
      "Train Loss: 0.5204 | Train Acc: 79.02%\n",
      "Val Loss:   0.5311 | Val Acc:   79.28%\n",
      "Validation loss improved: 0.5338 --> 0.5311. Saving checkpoint.\n",
      "Saved new best model to best_stress_model.pt\n",
      "\n",
      "Epoch 12/15\n"
     ]
    },
    {
     "name": "stderr",
     "output_type": "stream",
     "text": [
      "Train: 100%|██████████| 1578/1578 [00:47<00:00, 33.47it/s]\n",
      "Validate: 100%|██████████| 406/406 [00:05<00:00, 80.06it/s]\n"
     ]
    },
    {
     "name": "stdout",
     "output_type": "stream",
     "text": [
      "Train Loss: 0.5094 | Train Acc: 79.36%\n",
      "Val Loss:   0.5299 | Val Acc:   79.07%\n",
      "Validation loss improved: 0.5311 --> 0.5299. Saving checkpoint.\n",
      "Saved new best model to best_stress_model.pt\n",
      "\n",
      "Epoch 13/15\n"
     ]
    },
    {
     "name": "stderr",
     "output_type": "stream",
     "text": [
      "Train: 100%|██████████| 1578/1578 [00:45<00:00, 34.45it/s]\n",
      "Validate: 100%|██████████| 406/406 [00:05<00:00, 72.47it/s]\n"
     ]
    },
    {
     "name": "stdout",
     "output_type": "stream",
     "text": [
      "Train Loss: 0.5054 | Train Acc: 79.39%\n",
      "Val Loss:   0.5225 | Val Acc:   79.40%\n",
      "Validation loss improved: 0.5299 --> 0.5225. Saving checkpoint.\n",
      "Saved new best model to best_stress_model.pt\n",
      "\n",
      "Epoch 14/15\n"
     ]
    },
    {
     "name": "stderr",
     "output_type": "stream",
     "text": [
      "Train: 100%|██████████| 1578/1578 [00:46<00:00, 33.64it/s]\n",
      "Validate: 100%|██████████| 406/406 [00:05<00:00, 73.11it/s]\n"
     ]
    },
    {
     "name": "stdout",
     "output_type": "stream",
     "text": [
      "Train Loss: 0.5028 | Train Acc: 79.79%\n",
      "Val Loss:   0.5222 | Val Acc:   79.34%\n",
      "Validation loss improved: 0.5225 --> 0.5222. Saving checkpoint.\n",
      "Saved new best model to best_stress_model.pt\n",
      "\n",
      "Epoch 15/15\n"
     ]
    },
    {
     "name": "stderr",
     "output_type": "stream",
     "text": [
      "Train: 100%|██████████| 1578/1578 [00:47<00:00, 33.33it/s]\n",
      "Validate: 100%|██████████| 406/406 [00:05<00:00, 71.22it/s]\n",
      "<ipython-input-71-4f6095dd000e>:183: FutureWarning: You are using `torch.load` with `weights_only=False` (the current default value), which uses the default pickle module implicitly. It is possible to construct malicious pickle data which will execute arbitrary code during unpickling (See https://github.com/pytorch/pytorch/blob/main/SECURITY.md#untrusted-models for more details). In a future release, the default value for `weights_only` will be flipped to `True`. This limits the functions that could be executed during unpickling. Arbitrary objects will no longer be allowed to be loaded via this mode unless they are explicitly allowlisted by the user via `torch.serialization.add_safe_globals`. We recommend you start setting `weights_only=True` for any use case where you don't have full control of the loaded file. Please open an issue on GitHub for any issues related to this experimental feature.\n",
      "  checkpoint = torch.load(self.checkpoint_path, map_location=self.device)\n"
     ]
    },
    {
     "name": "stdout",
     "output_type": "stream",
     "text": [
      "Train Loss: 0.4957 | Train Acc: 79.87%\n",
      "Val Loss:   0.5163 | Val Acc:   79.59%\n",
      "Validation loss improved: 0.5222 --> 0.5163. Saving checkpoint.\n",
      "Saved new best model to best_stress_model.pt\n",
      "\n",
      "Training finished. Loading best model...\n",
      "Loaded checkpoint from best_stress_model.pt. Resuming from epoch 16.\n",
      "Training plots saved to training_plot.png\n"
     ]
    },
    {
     "data": {
      "image/png": "[encoded data removed]",
      "text/plain": [
       "<Figure size 1200x500 with 2 Axes>"
      ]
     },
     "metadata": {},
     "output_type": "display_data"
    }
   ],
   "source": [
    "trainer = Trainer(\n",
    "    model=model,\n",
    "    train_loader=train_loader,\n",
    "    val_loader=val_loader,\n",
    "    device='cuda' if torch.cuda.is_available() else 'cpu',\n",
    "    lr=1e-3,\n",
    "    epochs=15,\n",
    "    patience=3,\n",
    "    checkpoint_path='best_stress_model.pt'\n",
    ")\n",
    "\n",
    "trainer.train()"
   ]
  },
  {
   "cell_type": "code",
   "execution_count": 73,
   "metadata": {
    "execution": {
     "iopub.execute_input": "2025-03-24T12:37:58.276308Z",
     "iopub.status.busy": "2025-03-24T12:37:58.275981Z",
     "iopub.status.idle": "2025-03-24T12:45:03.576461Z",
     "shell.execute_reply": "2025-03-24T12:45:03.575306Z",
     "shell.execute_reply.started": "2025-03-24T12:37:58.276282Z"
    },
    "trusted": true
   },
   "outputs": [
    {
     "name": "stderr",
     "output_type": "stream",
     "text": [
      "<ipython-input-71-4f6095dd000e>:183: FutureWarning: You are using `torch.load` with `weights_only=False` (the current default value), which uses the default pickle module implicitly. It is possible to construct malicious pickle data which will execute arbitrary code during unpickling (See https://github.com/pytorch/pytorch/blob/main/SECURITY.md#untrusted-models for more details). In a future release, the default value for `weights_only` will be flipped to `True`. This limits the functions that could be executed during unpickling. Arbitrary objects will no longer be allowed to be loaded via this mode unless they are explicitly allowlisted by the user via `torch.serialization.add_safe_globals`. We recommend you start setting `weights_only=True` for any use case where you don't have full control of the loaded file. Please open an issue on GitHub for any issues related to this experimental feature.\n",
      "  checkpoint = torch.load(self.checkpoint_path, map_location=self.device)\n"
     ]
    },
    {
     "name": "stdout",
     "output_type": "stream",
     "text": [
      "Loaded checkpoint from best_stress_model.pt. Resuming from epoch 16.\n",
      "Starting training at epoch 16 out of 23\n",
      "\n",
      "Epoch 16/23\n"
     ]
    },
    {
     "name": "stderr",
     "output_type": "stream",
     "text": [
      "Train: 100%|██████████| 1578/1578 [00:48<00:00, 32.75it/s]\n",
      "Validate: 100%|██████████| 406/406 [00:05<00:00, 73.23it/s]\n"
     ]
    },
    {
     "name": "stdout",
     "output_type": "stream",
     "text": [
      "Train Loss: 0.4954 | Train Acc: 79.97%\n",
      "Val Loss:   0.5147 | Val Acc:   79.95%\n",
      "Validation loss improved: 0.5163 --> 0.5147. Saving checkpoint.\n",
      "Saved new best model to best_stress_model.pt\n",
      "\n",
      "Epoch 17/23\n"
     ]
    },
    {
     "name": "stderr",
     "output_type": "stream",
     "text": [
      "Train: 100%|██████████| 1578/1578 [00:47<00:00, 33.06it/s]\n",
      "Validate: 100%|██████████| 406/406 [00:05<00:00, 70.94it/s]\n"
     ]
    },
    {
     "name": "stdout",
     "output_type": "stream",
     "text": [
      "Train Loss: 0.4907 | Train Acc: 80.14%\n",
      "Val Loss:   0.5061 | Val Acc:   80.39%\n",
      "Validation loss improved: 0.5147 --> 0.5061. Saving checkpoint.\n",
      "Saved new best model to best_stress_model.pt\n",
      "\n",
      "Epoch 18/23\n"
     ]
    },
    {
     "name": "stderr",
     "output_type": "stream",
     "text": [
      "Train: 100%|██████████| 1578/1578 [00:47<00:00, 33.12it/s]\n",
      "Validate: 100%|██████████| 406/406 [00:05<00:00, 72.53it/s]\n"
     ]
    },
    {
     "name": "stdout",
     "output_type": "stream",
     "text": [
      "Train Loss: 0.4880 | Train Acc: 80.25%\n",
      "Val Loss:   0.5054 | Val Acc:   80.05%\n",
      "Validation loss improved: 0.5061 --> 0.5054. Saving checkpoint.\n",
      "Saved new best model to best_stress_model.pt\n",
      "\n",
      "Epoch 19/23\n"
     ]
    },
    {
     "name": "stderr",
     "output_type": "stream",
     "text": [
      "Train: 100%|██████████| 1578/1578 [00:48<00:00, 32.81it/s]\n",
      "Validate: 100%|██████████| 406/406 [00:05<00:00, 73.58it/s]\n"
     ]
    },
    {
     "name": "stdout",
     "output_type": "stream",
     "text": [
      "Train Loss: 0.4848 | Train Acc: 80.29%\n",
      "Val Loss:   0.5113 | Val Acc:   79.78%\n",
      "No improvement for 1 epochs...\n",
      "\n",
      "Epoch 20/23\n"
     ]
    },
    {
     "name": "stderr",
     "output_type": "stream",
     "text": [
      "Train: 100%|██████████| 1578/1578 [00:47<00:00, 33.21it/s]\n",
      "Validate: 100%|██████████| 406/406 [00:05<00:00, 70.35it/s]\n"
     ]
    },
    {
     "name": "stdout",
     "output_type": "stream",
     "text": [
      "Train Loss: 0.4786 | Train Acc: 80.86%\n",
      "Val Loss:   0.5069 | Val Acc:   80.15%\n",
      "No improvement for 2 epochs...\n",
      "\n",
      "Epoch 21/23\n"
     ]
    },
    {
     "name": "stderr",
     "output_type": "stream",
     "text": [
      "Train: 100%|██████████| 1578/1578 [00:47<00:00, 33.19it/s]\n",
      "Validate: 100%|██████████| 406/406 [00:05<00:00, 71.79it/s]\n"
     ]
    },
    {
     "name": "stdout",
     "output_type": "stream",
     "text": [
      "Train Loss: 0.4807 | Train Acc: 80.64%\n",
      "Val Loss:   0.5032 | Val Acc:   80.29%\n",
      "Validation loss improved: 0.5054 --> 0.5032. Saving checkpoint.\n",
      "Saved new best model to best_stress_model.pt\n",
      "\n",
      "Epoch 22/23\n"
     ]
    },
    {
     "name": "stderr",
     "output_type": "stream",
     "text": [
      "Train: 100%|██████████| 1578/1578 [00:47<00:00, 33.08it/s]\n",
      "Validate: 100%|██████████| 406/406 [00:05<00:00, 72.81it/s]\n"
     ]
    },
    {
     "name": "stdout",
     "output_type": "stream",
     "text": [
      "Train Loss: 0.4741 | Train Acc: 81.04%\n",
      "Val Loss:   0.4977 | Val Acc:   80.82%\n",
      "Validation loss improved: 0.5032 --> 0.4977. Saving checkpoint.\n",
      "Saved new best model to best_stress_model.pt\n",
      "\n",
      "Epoch 23/23\n"
     ]
    },
    {
     "name": "stderr",
     "output_type": "stream",
     "text": [
      "Train: 100%|██████████| 1578/1578 [00:45<00:00, 35.01it/s]\n",
      "Validate: 100%|██████████| 406/406 [00:05<00:00, 72.49it/s]\n"
     ]
    },
    {
     "name": "stdout",
     "output_type": "stream",
     "text": [
      "Train Loss: 0.4726 | Train Acc: 80.87%\n",
      "Val Loss:   0.5028 | Val Acc:   80.31%\n",
      "No improvement for 1 epochs...\n",
      "\n",
      "Training finished. Loading best model...\n",
      "Loaded checkpoint from best_stress_model.pt. Resuming from epoch 23.\n",
      "Training plots saved to training_plot.png\n"
     ]
    },
    {
     "data": {
      "image/png": "[encoded data removed]",
      "text/plain": [
       "<Figure size 1200x500 with 2 Axes>"
      ]
     },
     "metadata": {},
     "output_type": "display_data"
    }
   ],
   "source": [
    "trainer = Trainer(\n",
    "    model=model,\n",
    "    train_loader=train_loader,\n",
    "    val_loader=val_loader,\n",
    "    device='cuda' if torch.cuda.is_available() else 'cpu',\n",
    "    lr=1e-3,\n",
    "    epochs=8,\n",
    "    patience=3,\n",
    "    checkpoint_path='best_stress_model.pt',\n",
    "    resume=True\n",
    ")\n",
    "\n",
    "trainer.train()"
   ]
  },
  {
   "cell_type": "code",
   "execution_count": 75,
   "metadata": {
    "execution": {
     "iopub.execute_input": "2025-03-24T12:47:49.352611Z",
     "iopub.status.busy": "2025-03-24T12:47:49.352265Z",
     "iopub.status.idle": "2025-03-24T12:52:13.565534Z",
     "shell.execute_reply": "2025-03-24T12:52:13.564629Z",
     "shell.execute_reply.started": "2025-03-24T12:47:49.352586Z"
    },
    "trusted": true
   },
   "outputs": [
    {
     "name": "stderr",
     "output_type": "stream",
     "text": [
      "<ipython-input-71-4f6095dd000e>:183: FutureWarning: You are using `torch.load` with `weights_only=False` (the current default value), which uses the default pickle module implicitly. It is possible to construct malicious pickle data which will execute arbitrary code during unpickling (See https://github.com/pytorch/pytorch/blob/main/SECURITY.md#untrusted-models for more details). In a future release, the default value for `weights_only` will be flipped to `True`. This limits the functions that could be executed during unpickling. Arbitrary objects will no longer be allowed to be loaded via this mode unless they are explicitly allowlisted by the user via `torch.serialization.add_safe_globals`. We recommend you start setting `weights_only=True` for any use case where you don't have full control of the loaded file. Please open an issue on GitHub for any issues related to this experimental feature.\n",
      "  checkpoint = torch.load(self.checkpoint_path, map_location=self.device)\n"
     ]
    },
    {
     "name": "stdout",
     "output_type": "stream",
     "text": [
      "Loaded checkpoint from best_stress_model.pt. Resuming from epoch 23.\n",
      "Starting training at epoch 23 out of 27\n",
      "\n",
      "Epoch 23/27\n"
     ]
    },
    {
     "name": "stderr",
     "output_type": "stream",
     "text": [
      "Train: 100%|██████████| 1578/1578 [00:46<00:00, 33.84it/s]\n",
      "Validate: 100%|██████████| 406/406 [00:05<00:00, 72.24it/s]\n"
     ]
    },
    {
     "name": "stdout",
     "output_type": "stream",
     "text": [
      "Train Loss: 0.4704 | Train Acc: 80.93%\n",
      "Val Loss:   0.5006 | Val Acc:   80.78%\n",
      "No improvement for 1 epochs...\n",
      "\n",
      "Epoch 24/27\n"
     ]
    },
    {
     "name": "stderr",
     "output_type": "stream",
     "text": [
      "Train: 100%|██████████| 1578/1578 [00:47<00:00, 32.95it/s]\n",
      "Validate: 100%|██████████| 406/406 [00:05<00:00, 72.96it/s]\n"
     ]
    },
    {
     "name": "stdout",
     "output_type": "stream",
     "text": [
      "Train Loss: 0.4706 | Train Acc: 81.03%\n",
      "Val Loss:   0.4989 | Val Acc:   80.33%\n",
      "No improvement for 2 epochs...\n",
      "\n",
      "Epoch 25/27\n"
     ]
    },
    {
     "name": "stderr",
     "output_type": "stream",
     "text": [
      "Train: 100%|██████████| 1578/1578 [00:47<00:00, 33.28it/s]\n",
      "Validate: 100%|██████████| 406/406 [00:05<00:00, 73.47it/s]\n"
     ]
    },
    {
     "name": "stdout",
     "output_type": "stream",
     "text": [
      "Train Loss: 0.4651 | Train Acc: 81.28%\n",
      "Val Loss:   0.4917 | Val Acc:   81.01%\n",
      "Validation loss improved: 0.4977 --> 0.4917. Saving checkpoint.\n",
      "Saved new best model to best_stress_model.pt\n",
      "\n",
      "Epoch 26/27\n"
     ]
    },
    {
     "name": "stderr",
     "output_type": "stream",
     "text": [
      "Train: 100%|██████████| 1578/1578 [00:46<00:00, 33.77it/s]\n",
      "Validate: 100%|██████████| 406/406 [00:05<00:00, 74.69it/s]\n"
     ]
    },
    {
     "name": "stdout",
     "output_type": "stream",
     "text": [
      "Train Loss: 0.4659 | Train Acc: 81.18%\n",
      "Val Loss:   0.4934 | Val Acc:   80.58%\n",
      "No improvement for 1 epochs...\n",
      "\n",
      "Epoch 27/27\n"
     ]
    },
    {
     "name": "stderr",
     "output_type": "stream",
     "text": [
      "Train: 100%|██████████| 1578/1578 [00:47<00:00, 33.49it/s]\n",
      "Validate: 100%|██████████| 406/406 [00:05<00:00, 73.43it/s]\n"
     ]
    },
    {
     "name": "stdout",
     "output_type": "stream",
     "text": [
      "Train Loss: 0.4649 | Train Acc: 81.15%\n",
      "Val Loss:   0.4973 | Val Acc:   80.77%\n",
      "No improvement for 2 epochs...\n",
      "\n",
      "Training finished. Loading best model...\n",
      "Loaded checkpoint from best_stress_model.pt. Resuming from epoch 26.\n",
      "Training plots saved to training_plot.png\n"
     ]
    },
    {
     "data": {
      "image/png": "[encoded data removed]",
      "text/plain": [
       "<Figure size 1200x500 with 2 Axes>"
      ]
     },
     "metadata": {},
     "output_type": "display_data"
    }
   ],
   "source": [
    "trainer = Trainer(\n",
    "    model=model,\n",
    "    train_loader=train_loader,\n",
    "    val_loader=val_loader,\n",
    "    device='cuda' if torch.cuda.is_available() else 'cpu',\n",
    "    lr=1e-3,\n",
    "    epochs=5,\n",
    "    patience=3,\n",
    "    checkpoint_path='best_stress_model.pt',\n",
    "    resume=True\n",
    ")\n",
    "\n",
    "trainer.train()"
   ]
  },
  {
   "cell_type": "code",
   "execution_count": null,
   "metadata": {
    "execution": {
     "iopub.execute_input": "2025-03-24T12:52:13.567249Z",
     "iopub.status.busy": "2025-03-24T12:52:13.566902Z",
     "iopub.status.idle": "2025-03-24T12:52:13.575672Z",
     "shell.execute_reply": "2025-03-24T12:52:13.574998Z",
     "shell.execute_reply.started": "2025-03-24T12:52:13.567216Z"
    },
    "trusted": true
   },
   "outputs": [],
   "source": [
    "@torch.no_grad()\n",
    "def validate_with_calibration(trainer, val_loader):\n",
    "    trainer.model.eval()\n",
    "\n",
    "    total_loss = 0\n",
    "    total_correct = 0\n",
    "    total_samples = 0\n",
    "\n",
    "    all_confidences = []\n",
    "    all_corrects = []\n",
    "\n",
    "    for (padded_word_tensors, padded_vowel_masks, lengths, norm_char_pos, norm_vowel_pos), stress_labels in tqdm(val_loader, desc='Validate'):\n",
    "\n",
    "        padded_word_tensors = padded_word_tensors.to(trainer.device)\n",
    "        padded_vowel_masks = padded_vowel_masks.to(trainer.device)\n",
    "        lengths = lengths.to(trainer.device)\n",
    "        norm_char_pos = norm_char_pos.to(trainer.device)\n",
    "        norm_vowel_pos = norm_vowel_pos.to(trainer.device)\n",
    "        stress_labels = stress_labels.to(trainer.device)\n",
    "\n",
    "        logits_list = trainer.model((padded_word_tensors, padded_vowel_masks, lengths, norm_char_pos, norm_vowel_pos))\n",
    "\n",
    "        losses = []\n",
    "        correct_preds = 0\n",
    "\n",
    "        for i in range(len(logits_list)):\n",
    "            logits = logits_list[i]\n",
    "            target = stress_labels[i] - 1\n",
    "\n",
    "            loss = F.cross_entropy(logits.unsqueeze(0), target.unsqueeze(0))\n",
    "            losses.append(loss)\n",
    "\n",
    "            probs = F.softmax(logits, dim=0)\n",
    "            max_prob, pred_idx = torch.max(probs, dim=0)\n",
    "            correct = (pred_idx.item() == target.item())\n",
    "\n",
    "            all_confidences.append(max_prob.item())\n",
    "            all_corrects.append(int(correct))\n",
    "\n",
    "            if correct:\n",
    "                correct_preds += 1\n",
    "\n",
    "        if len(losses) == 0:\n",
    "            continue\n",
    "\n",
    "        batch_loss = torch.stack(losses).mean()\n",
    "\n",
    "        total_loss += batch_loss.item() * len(logits_list)\n",
    "        total_correct += correct_preds\n",
    "        total_samples += len(logits_list)\n",
    "\n",
    "    avg_loss = total_loss / total_samples if total_samples > 0 else 0\n",
    "    accuracy = total_correct / total_samples * 100 if total_samples > 0 else 0\n",
    "\n",
    "    print(f\"Validation Loss: {avg_loss:.4f} | Validation Accuracy: {accuracy:.2f}%\")\n",
    "\n",
    "    return all_confidences, all_corrects"
   ]
  },
  {
   "cell_type": "code",
   "execution_count": 77,
   "metadata": {
    "execution": {
     "iopub.execute_input": "2025-03-24T12:52:13.577294Z",
     "iopub.status.busy": "2025-03-24T12:52:13.577005Z",
     "iopub.status.idle": "2025-03-24T12:52:19.789107Z",
     "shell.execute_reply": "2025-03-24T12:52:19.788195Z",
     "shell.execute_reply.started": "2025-03-24T12:52:13.577273Z"
    },
    "trusted": true
   },
   "outputs": [
    {
     "name": "stderr",
     "output_type": "stream",
     "text": [
      "Validate: 100%|██████████| 406/406 [00:05<00:00, 68.18it/s]\n"
     ]
    },
    {
     "name": "stdout",
     "output_type": "stream",
     "text": [
      "Validation Loss: 0.4917 | Validation Accuracy: 81.01%\n"
     ]
    },
    {
     "data": {
      "image/png": "[encoded data removed]",
      "text/plain": [
       "<Figure size 800x600 with 1 Axes>"
      ]
     },
     "metadata": {},
     "output_type": "display_data"
    }
   ],
   "source": [
    "confidences, corrects = validate_with_calibration(trainer, val_loader)\n",
    "\n",
    "prob_true, prob_pred = calibration_curve(corrects, confidences, n_bins=10)\n",
    "\n",
    "plt.figure(figsize=(8, 6))\n",
    "plt.plot(prob_pred, prob_true, marker='o', label='Model calibration')\n",
    "plt.plot([0, 1], [0, 1], linestyle='--', color='gray', label='Perfectly calibrated')\n",
    "plt.xlabel('Предсказанная вероятность')\n",
    "plt.ylabel('Доля правильных предсказаний')\n",
    "plt.title('Калибровочная кривая')\n",
    "plt.legend()\n",
    "plt.grid(True)\n",
    "plt.show()"
   ]
  },
  {
   "cell_type": "markdown",
   "metadata": {},
   "source": [
    "#### Аналогичный эксперимент для LSTM"
   ]
  },
  {
   "cell_type": "code",
   "execution_count": 89,
   "metadata": {
    "execution": {
     "iopub.execute_input": "2025-03-24T13:27:44.904233Z",
     "iopub.status.busy": "2025-03-24T13:27:44.903874Z",
     "iopub.status.idle": "2025-03-24T13:27:44.922473Z",
     "shell.execute_reply": "2025-03-24T13:27:44.921381Z",
     "shell.execute_reply.started": "2025-03-24T13:27:44.904200Z"
    },
    "trusted": true
   },
   "outputs": [],
   "source": [
    "class StressLSTM(nn.Module):\n",
    "    def __init__(self, vocab_size, embedding_dim=128, hidden_dim=256, dropout=0.3):\n",
    "        super().__init__()\n",
    "\n",
    "        self.embedding_dim = embedding_dim\n",
    "        self.hidden_dim = hidden_dim\n",
    "\n",
    "        self.input_features_dim = embedding_dim + 3\n",
    "\n",
    "        self.embedding = nn.Embedding(\n",
    "            num_embeddings=vocab_size + 1,\n",
    "            embedding_dim=embedding_dim,\n",
    "            padding_idx=0\n",
    "        )\n",
    "\n",
    "        self.lstm = nn.LSTM(\n",
    "            input_size=self.input_features_dim,\n",
    "            hidden_size=hidden_dim,\n",
    "            batch_first=True,\n",
    "            bidirectional=True\n",
    "        )\n",
    "\n",
    "        self.dropout = nn.Dropout(dropout)\n",
    "        self.fc = nn.Linear(hidden_dim * 2, 1)\n",
    "\n",
    "    def forward(self, inputs):\n",
    "        padded_word_tensors, padded_vowel_masks, lengths, norm_char_pos, norm_vowel_pos = inputs\n",
    "\n",
    "        x_embed = self.embedding(padded_word_tensors)\n",
    "\n",
    "        vowel_mask_expanded = padded_vowel_masks.unsqueeze(-1)\n",
    "        norm_char_pos_expanded = norm_char_pos.unsqueeze(-1)\n",
    "        norm_vowel_pos_expanded = norm_vowel_pos.unsqueeze(-1)\n",
    "\n",
    "        x = torch.cat([x_embed, vowel_mask_expanded, norm_char_pos_expanded, norm_vowel_pos_expanded], dim=-1)\n",
    "\n",
    "        packed_input = nn.utils.rnn.pack_padded_sequence(\n",
    "            x, lengths.cpu(), batch_first=True, enforce_sorted=False\n",
    "        )\n",
    "\n",
    "        packed_output, _ = self.lstm(packed_input)\n",
    "\n",
    "        output, _ = nn.utils.rnn.pad_packed_sequence(packed_output, batch_first=True)\n",
    "        output = self.dropout(output)\n",
    "\n",
    "        logits_list = []\n",
    "        for i in range(output.size(0)):\n",
    "            mask = padded_vowel_masks[i].bool()\n",
    "            output_vowels_only = output[i][mask]\n",
    "\n",
    "            logits_vowels = self.fc(output_vowels_only).squeeze(-1)\n",
    "            logits_list.append(logits_vowels)\n",
    "\n",
    "        return logits_list\n",
    "\n",
    "model = StressLSTM(vocab_size=vocab_size)"
   ]
  },
  {
   "cell_type": "code",
   "execution_count": 90,
   "metadata": {
    "execution": {
     "iopub.execute_input": "2025-03-24T13:27:47.590134Z",
     "iopub.status.busy": "2025-03-24T13:27:47.589838Z",
     "iopub.status.idle": "2025-03-24T13:33:27.719403Z",
     "shell.execute_reply": "2025-03-24T13:33:27.718453Z",
     "shell.execute_reply.started": "2025-03-24T13:27:47.590114Z"
    },
    "trusted": true
   },
   "outputs": [
    {
     "name": "stdout",
     "output_type": "stream",
     "text": [
      "Starting fresh training with model StressLSTM\n",
      "Starting training at epoch 1 out of 10\n",
      "\n",
      "Epoch 1/10\n"
     ]
    },
    {
     "name": "stderr",
     "output_type": "stream",
     "text": [
      "Train: 100%|██████████| 1578/1578 [00:51<00:00, 30.41it/s]\n",
      "Validate: 100%|██████████| 406/406 [00:06<00:00, 67.37it/s]\n"
     ]
    },
    {
     "name": "stdout",
     "output_type": "stream",
     "text": [
      "Train Loss: 0.6124 | Train Acc: 74.44%\n",
      "Val Loss:   0.5613 | Val Acc:   77.53%\n",
      "Validation loss improved: inf --> 0.5613. Saving checkpoint.\n",
      "Saved new best model to best_stress_model.pt\n",
      "\n",
      "Epoch 2/10\n"
     ]
    },
    {
     "name": "stderr",
     "output_type": "stream",
     "text": [
      "Train: 100%|██████████| 1578/1578 [00:51<00:00, 30.66it/s]\n",
      "Validate: 100%|██████████| 406/406 [00:05<00:00, 67.87it/s]\n"
     ]
    },
    {
     "name": "stdout",
     "output_type": "stream",
     "text": [
      "Train Loss: 0.4430 | Train Acc: 82.00%\n",
      "Val Loss:   0.5198 | Val Acc:   80.08%\n",
      "Validation loss improved: 0.5613 --> 0.5198. Saving checkpoint.\n",
      "Saved new best model to best_stress_model.pt\n",
      "\n",
      "Epoch 3/10\n"
     ]
    },
    {
     "name": "stderr",
     "output_type": "stream",
     "text": [
      "Train: 100%|██████████| 1578/1578 [00:48<00:00, 32.72it/s]\n",
      "Validate: 100%|██████████| 406/406 [00:05<00:00, 68.34it/s]\n"
     ]
    },
    {
     "name": "stdout",
     "output_type": "stream",
     "text": [
      "Train Loss: 0.3473 | Train Acc: 86.38%\n",
      "Val Loss:   0.4809 | Val Acc:   81.53%\n",
      "Validation loss improved: 0.5198 --> 0.4809. Saving checkpoint.\n",
      "Saved new best model to best_stress_model.pt\n",
      "\n",
      "Epoch 4/10\n"
     ]
    },
    {
     "name": "stderr",
     "output_type": "stream",
     "text": [
      "Train: 100%|██████████| 1578/1578 [00:49<00:00, 31.95it/s]\n",
      "Validate: 100%|██████████| 406/406 [00:05<00:00, 75.80it/s]\n"
     ]
    },
    {
     "name": "stdout",
     "output_type": "stream",
     "text": [
      "Train Loss: 0.2780 | Train Acc: 89.24%\n",
      "Val Loss:   0.5091 | Val Acc:   81.91%\n",
      "No improvement for 1 epochs...\n",
      "\n",
      "Epoch 5/10\n"
     ]
    },
    {
     "name": "stderr",
     "output_type": "stream",
     "text": [
      "Train: 100%|██████████| 1578/1578 [00:51<00:00, 30.76it/s]\n",
      "Validate: 100%|██████████| 406/406 [00:06<00:00, 67.55it/s]\n"
     ]
    },
    {
     "name": "stdout",
     "output_type": "stream",
     "text": [
      "Train Loss: 0.2297 | Train Acc: 91.41%\n",
      "Val Loss:   0.5436 | Val Acc:   81.82%\n",
      "No improvement for 2 epochs...\n",
      "\n",
      "Epoch 6/10\n"
     ]
    },
    {
     "name": "stderr",
     "output_type": "stream",
     "text": [
      "Train: 100%|██████████| 1578/1578 [00:51<00:00, 30.54it/s]\n",
      "Validate: 100%|██████████| 406/406 [00:05<00:00, 68.01it/s]\n",
      "<ipython-input-71-4f6095dd000e>:183: FutureWarning: You are using `torch.load` with `weights_only=False` (the current default value), which uses the default pickle module implicitly. It is possible to construct malicious pickle data which will execute arbitrary code during unpickling (See https://github.com/pytorch/pytorch/blob/main/SECURITY.md#untrusted-models for more details). In a future release, the default value for `weights_only` will be flipped to `True`. This limits the functions that could be executed during unpickling. Arbitrary objects will no longer be allowed to be loaded via this mode unless they are explicitly allowlisted by the user via `torch.serialization.add_safe_globals`. We recommend you start setting `weights_only=True` for any use case where you don't have full control of the loaded file. Please open an issue on GitHub for any issues related to this experimental feature.\n",
      "  checkpoint = torch.load(self.checkpoint_path, map_location=self.device)\n"
     ]
    },
    {
     "name": "stdout",
     "output_type": "stream",
     "text": [
      "Train Loss: 0.1913 | Train Acc: 92.77%\n",
      "Val Loss:   0.5525 | Val Acc:   81.99%\n",
      "No improvement for 3 epochs...\n",
      "\n",
      "Early stopping triggered. Loading best checkpoint...\n",
      "Loaded checkpoint from best_stress_model.pt. Resuming from epoch 4.\n",
      "\n",
      "Training finished. Loading best model...\n",
      "Loaded checkpoint from best_stress_model.pt. Resuming from epoch 4.\n",
      "Training plots saved to training_plot.png\n"
     ]
    },
    {
     "data": {
      "image/png": "[encoded data removed]",
      "text/plain": [
       "<Figure size 1200x500 with 2 Axes>"
      ]
     },
     "metadata": {},
     "output_type": "display_data"
    }
   ],
   "source": [
    "trainer = Trainer(\n",
    "    model=model,\n",
    "    train_loader=train_loader,\n",
    "    val_loader=val_loader,\n",
    "    device='cuda' if torch.cuda.is_available() else 'cpu',\n",
    "    lr=1e-3,\n",
    "    epochs=10,\n",
    "    patience=3,\n",
    "    checkpoint_path='best_stress_model.pt'\n",
    ")\n",
    "\n",
    "trainer.train()"
   ]
  },
  {
   "cell_type": "code",
   "execution_count": 91,
   "metadata": {
    "execution": {
     "iopub.execute_input": "2025-03-24T13:34:52.529543Z",
     "iopub.status.busy": "2025-03-24T13:34:52.529076Z",
     "iopub.status.idle": "2025-03-24T13:34:59.052346Z",
     "shell.execute_reply": "2025-03-24T13:34:59.051479Z",
     "shell.execute_reply.started": "2025-03-24T13:34:52.529505Z"
    },
    "trusted": true
   },
   "outputs": [
    {
     "name": "stderr",
     "output_type": "stream",
     "text": [
      "Validate: 100%|██████████| 406/406 [00:06<00:00, 64.36it/s]\n"
     ]
    },
    {
     "name": "stdout",
     "output_type": "stream",
     "text": [
      "Validation Loss: 0.4809 | Validation Accuracy: 81.53%\n"
     ]
    },
    {
     "data": {
      "image/png": "[encoded data removed]",
      "text/plain": [
       "<Figure size 800x600 with 1 Axes>"
      ]
     },
     "metadata": {},
     "output_type": "display_data"
    }
   ],
   "source": [
    "confidences, corrects = validate_with_calibration(trainer, val_loader)\n",
    "\n",
    "prob_true, prob_pred = calibration_curve(corrects, confidences, n_bins=10)\n",
    "\n",
    "plt.figure(figsize=(8, 6))\n",
    "plt.plot(prob_pred, prob_true, marker='o', label='Model calibration')\n",
    "plt.plot([0, 1], [0, 1], linestyle='--', color='gray', label='Perfectly calibrated')\n",
    "plt.xlabel('Предсказанная вероятность')\n",
    "plt.ylabel('Доля правильных предсказаний')\n",
    "plt.title('Калибровочная кривая')\n",
    "plt.legend()\n",
    "plt.grid(True)\n",
    "plt.show()"
   ]
  },
  {
   "cell_type": "markdown",
   "metadata": {},
   "source": [
    "Дополнительные признаки не дали почти никакого прироста, но получилось улучшить качество путём увеличения количества эпох в случае CNN и увеличением размера эмбеддингов и скрытого слоя в случае LSTM. "
   ]
  },
  {
   "cell_type": "markdown",
   "metadata": {},
   "source": [
    "## Трансформер"
   ]
  },
  {
   "cell_type": "code",
   "execution_count": null,
   "metadata": {
    "execution": {
     "iopub.execute_input": "2025-03-24T14:24:12.464681Z",
     "iopub.status.busy": "2025-03-24T14:24:12.464284Z",
     "iopub.status.idle": "2025-03-24T14:24:12.471993Z",
     "shell.execute_reply": "2025-03-24T14:24:12.470750Z",
     "shell.execute_reply.started": "2025-03-24T14:24:12.464653Z"
    },
    "trusted": true
   },
   "outputs": [],
   "source": [
    "class PositionalEncoding(nn.Module):\n",
    "    def __init__(self, d_model, dropout=0.1, max_len=100):\n",
    "        super(PositionalEncoding, self).__init__()\n",
    "        self.dropout = nn.Dropout(p=dropout)\n",
    "\n",
    "        pe = torch.zeros(max_len, d_model)\n",
    "        position = torch.arange(0, max_len, dtype=torch.float).unsqueeze(1)\n",
    "        div_term = torch.exp(torch.arange(0, d_model, 2).float() * (-math.log(10000.0) / d_model))\n",
    "\n",
    "        pe[:, 0::2] = torch.sin(position * div_term)\n",
    "        pe[:, 1::2] = torch.cos(position * div_term)\n",
    "\n",
    "        pe = pe.unsqueeze(0)\n",
    "        self.register_buffer('pe', pe)\n",
    "\n",
    "    def forward(self, x):\n",
    "        \"\"\"\n",
    "        Args:\n",
    "            x: Tensor of shape [batch_size, seq_len, d_model]\n",
    "        \"\"\"\n",
    "        seq_len = x.size(1)\n",
    "        x = x + self.pe[:, :seq_len, :]\n",
    "        return self.dropout(x)"
   ]
  },
  {
   "cell_type": "code",
   "execution_count": null,
   "metadata": {
    "execution": {
     "iopub.execute_input": "2025-03-24T14:49:59.342375Z",
     "iopub.status.busy": "2025-03-24T14:49:59.342068Z",
     "iopub.status.idle": "2025-03-24T14:49:59.357882Z",
     "shell.execute_reply": "2025-03-24T14:49:59.357152Z",
     "shell.execute_reply.started": "2025-03-24T14:49:59.342341Z"
    },
    "trusted": true
   },
   "outputs": [],
   "source": [
    "class StressTransformer(nn.Module):\n",
    "    def __init__(self, vocab_size, embedding_dim=125, n_heads=8, hidden_dim=256, num_layers=4, dropout=0.3):\n",
    "        super().__init__()\n",
    "\n",
    "        self.embedding_dim = embedding_dim\n",
    "        self.additional_features_dim = 3\n",
    "        self.total_input_dim = embedding_dim + self.additional_features_dim\n",
    "\n",
    "        self.embedding = nn.Embedding(\n",
    "            num_embeddings=vocab_size + 1,\n",
    "            embedding_dim=embedding_dim,\n",
    "            padding_idx=0\n",
    "        )\n",
    "\n",
    "        self.positional_encoding = PositionalEncoding(self.total_input_dim, dropout=dropout)\n",
    "\n",
    "        encoder_layer = nn.TransformerEncoderLayer(\n",
    "            d_model=self.total_input_dim,\n",
    "            nhead=n_heads,\n",
    "            dim_feedforward=hidden_dim,\n",
    "            dropout=dropout,\n",
    "            batch_first=True\n",
    "        )\n",
    "        self.transformer_encoder = nn.TransformerEncoder(encoder_layer, num_layers=num_layers)\n",
    "\n",
    "        self.fc = nn.Linear(self.total_input_dim, 1)\n",
    "\n",
    "    def forward(self, inputs):\n",
    "        padded_word_tensors, padded_vowel_masks, lengths, norm_char_pos, norm_vowel_pos = inputs\n",
    "\n",
    "        x_embed = self.embedding(padded_word_tensors)\n",
    "\n",
    "        vowel_mask_expanded = padded_vowel_masks.unsqueeze(-1)\n",
    "        norm_char_pos_expanded = norm_char_pos.unsqueeze(-1)\n",
    "        norm_vowel_pos_expanded = norm_vowel_pos.unsqueeze(-1)\n",
    "        x = torch.cat([x_embed, vowel_mask_expanded, norm_char_pos_expanded, norm_vowel_pos_expanded], dim=-1)\n",
    "\n",
    "        x = self.positional_encoding(x)\n",
    "\n",
    "        padding_mask = (padded_word_tensors == 0)\n",
    "\n",
    "        x = self.transformer_encoder(x, src_key_padding_mask=padding_mask)\n",
    "\n",
    "        logits = self.fc(x).squeeze(-1)\n",
    "\n",
    "        logits_list = []\n",
    "        for i in range(logits.size(0)):\n",
    "            mask = padded_vowel_masks[i].bool()\n",
    "            logits_vowels = logits[i][mask]\n",
    "            logits_list.append(logits_vowels)\n",
    "\n",
    "        return logits_list\n",
    "\n",
    "model = StressTransformer(vocab_size=vocab_size)\n",
    "optimizer = torch.optim.AdamW(model.parameters(), lr=2e-4, weight_decay=1e-2)\n",
    "scheduler = torch.optim.lr_scheduler.CosineAnnealingLR(optimizer, T_max=10)"
   ]
  },
  {
   "cell_type": "code",
   "execution_count": 107,
   "metadata": {
    "execution": {
     "iopub.execute_input": "2025-03-24T14:50:03.201513Z",
     "iopub.status.busy": "2025-03-24T14:50:03.201218Z",
     "iopub.status.idle": "2025-03-24T15:07:45.217553Z",
     "shell.execute_reply": "2025-03-24T15:07:45.216632Z",
     "shell.execute_reply.started": "2025-03-24T14:50:03.201490Z"
    },
    "trusted": true
   },
   "outputs": [
    {
     "name": "stdout",
     "output_type": "stream",
     "text": [
      "Starting fresh training with model StressTransformer\n",
      "Starting training at epoch 1 out of 20\n",
      "\n",
      "Epoch 1/20\n"
     ]
    },
    {
     "name": "stderr",
     "output_type": "stream",
     "text": [
      "Train: 100%|██████████| 1578/1578 [00:47<00:00, 33.20it/s]\n",
      "Validate: 100%|██████████| 406/406 [00:05<00:00, 67.70it/s]\n"
     ]
    },
    {
     "name": "stdout",
     "output_type": "stream",
     "text": [
      "Train Loss: 0.9899 | Train Acc: 53.26%\n",
      "Val Loss:   0.8286 | Val Acc:   64.49%\n",
      "Validation loss improved: inf --> 0.8286. Saving checkpoint.\n",
      "Saved new best model to best_stress_model.pt\n",
      "\n",
      "Epoch 2/20\n"
     ]
    },
    {
     "name": "stderr",
     "output_type": "stream",
     "text": [
      "Train: 100%|██████████| 1578/1578 [00:48<00:00, 32.70it/s]\n",
      "Validate: 100%|██████████| 406/406 [00:05<00:00, 69.90it/s]\n"
     ]
    },
    {
     "name": "stdout",
     "output_type": "stream",
     "text": [
      "Train Loss: 0.8588 | Train Acc: 61.73%\n",
      "Val Loss:   0.7856 | Val Acc:   67.73%\n",
      "Validation loss improved: 0.8286 --> 0.7856. Saving checkpoint.\n",
      "Saved new best model to best_stress_model.pt\n",
      "\n",
      "Epoch 3/20\n"
     ]
    },
    {
     "name": "stderr",
     "output_type": "stream",
     "text": [
      "Train: 100%|██████████| 1578/1578 [00:48<00:00, 32.44it/s]\n",
      "Validate: 100%|██████████| 406/406 [00:05<00:00, 70.16it/s]\n"
     ]
    },
    {
     "name": "stdout",
     "output_type": "stream",
     "text": [
      "Train Loss: 0.8137 | Train Acc: 64.31%\n",
      "Val Loss:   0.7283 | Val Acc:   68.79%\n",
      "Validation loss improved: 0.7856 --> 0.7283. Saving checkpoint.\n",
      "Saved new best model to best_stress_model.pt\n",
      "\n",
      "Epoch 4/20\n"
     ]
    },
    {
     "name": "stderr",
     "output_type": "stream",
     "text": [
      "Train: 100%|██████████| 1578/1578 [00:48<00:00, 32.62it/s]\n",
      "Validate: 100%|██████████| 406/406 [00:05<00:00, 69.73it/s]\n"
     ]
    },
    {
     "name": "stdout",
     "output_type": "stream",
     "text": [
      "Train Loss: 0.7801 | Train Acc: 66.40%\n",
      "Val Loss:   0.7316 | Val Acc:   70.02%\n",
      "No improvement for 1 epochs...\n",
      "\n",
      "Epoch 5/20\n"
     ]
    },
    {
     "name": "stderr",
     "output_type": "stream",
     "text": [
      "Train: 100%|██████████| 1578/1578 [00:48<00:00, 32.60it/s]\n",
      "Validate: 100%|██████████| 406/406 [00:05<00:00, 68.79it/s]\n"
     ]
    },
    {
     "name": "stdout",
     "output_type": "stream",
     "text": [
      "Train Loss: 0.7582 | Train Acc: 67.54%\n",
      "Val Loss:   0.6923 | Val Acc:   71.06%\n",
      "Validation loss improved: 0.7283 --> 0.6923. Saving checkpoint.\n",
      "Saved new best model to best_stress_model.pt\n",
      "\n",
      "Epoch 6/20\n"
     ]
    },
    {
     "name": "stderr",
     "output_type": "stream",
     "text": [
      "Train: 100%|██████████| 1578/1578 [00:48<00:00, 32.87it/s]\n",
      "Validate: 100%|██████████| 406/406 [00:05<00:00, 68.78it/s]\n"
     ]
    },
    {
     "name": "stdout",
     "output_type": "stream",
     "text": [
      "Train Loss: 0.7431 | Train Acc: 67.93%\n",
      "Val Loss:   0.7125 | Val Acc:   70.79%\n",
      "No improvement for 1 epochs...\n",
      "\n",
      "Epoch 7/20\n"
     ]
    },
    {
     "name": "stderr",
     "output_type": "stream",
     "text": [
      "Train: 100%|██████████| 1578/1578 [00:48<00:00, 32.77it/s]\n",
      "Validate: 100%|██████████| 406/406 [00:05<00:00, 69.98it/s]\n"
     ]
    },
    {
     "name": "stdout",
     "output_type": "stream",
     "text": [
      "Train Loss: 0.7284 | Train Acc: 68.71%\n",
      "Val Loss:   0.6909 | Val Acc:   71.33%\n",
      "Validation loss improved: 0.6923 --> 0.6909. Saving checkpoint.\n",
      "Saved new best model to best_stress_model.pt\n",
      "\n",
      "Epoch 8/20\n"
     ]
    },
    {
     "name": "stderr",
     "output_type": "stream",
     "text": [
      "Train: 100%|██████████| 1578/1578 [00:47<00:00, 33.05it/s]\n",
      "Validate: 100%|██████████| 406/406 [00:05<00:00, 68.59it/s]\n"
     ]
    },
    {
     "name": "stdout",
     "output_type": "stream",
     "text": [
      "Train Loss: 0.7144 | Train Acc: 69.62%\n",
      "Val Loss:   0.6821 | Val Acc:   72.02%\n",
      "Validation loss improved: 0.6909 --> 0.6821. Saving checkpoint.\n",
      "Saved new best model to best_stress_model.pt\n",
      "\n",
      "Epoch 9/20\n"
     ]
    },
    {
     "name": "stderr",
     "output_type": "stream",
     "text": [
      "Train: 100%|██████████| 1578/1578 [00:47<00:00, 32.90it/s]\n",
      "Validate: 100%|██████████| 406/406 [00:05<00:00, 68.27it/s]\n"
     ]
    },
    {
     "name": "stdout",
     "output_type": "stream",
     "text": [
      "Train Loss: 0.7126 | Train Acc: 69.47%\n",
      "Val Loss:   0.6757 | Val Acc:   72.20%\n",
      "Validation loss improved: 0.6821 --> 0.6757. Saving checkpoint.\n",
      "Saved new best model to best_stress_model.pt\n",
      "\n",
      "Epoch 10/20\n"
     ]
    },
    {
     "name": "stderr",
     "output_type": "stream",
     "text": [
      "Train: 100%|██████████| 1578/1578 [00:47<00:00, 33.44it/s]\n",
      "Validate: 100%|██████████| 406/406 [00:05<00:00, 69.99it/s]\n"
     ]
    },
    {
     "name": "stdout",
     "output_type": "stream",
     "text": [
      "Train Loss: 0.7097 | Train Acc: 69.56%\n",
      "Val Loss:   0.6728 | Val Acc:   72.31%\n",
      "Validation loss improved: 0.6757 --> 0.6728. Saving checkpoint.\n",
      "Saved new best model to best_stress_model.pt\n",
      "\n",
      "Epoch 11/20\n"
     ]
    },
    {
     "name": "stderr",
     "output_type": "stream",
     "text": [
      "Train: 100%|██████████| 1578/1578 [00:47<00:00, 33.29it/s]\n",
      "Validate: 100%|██████████| 406/406 [00:05<00:00, 78.12it/s]\n"
     ]
    },
    {
     "name": "stdout",
     "output_type": "stream",
     "text": [
      "Train Loss: 0.7083 | Train Acc: 69.78%\n",
      "Val Loss:   0.6728 | Val Acc:   72.31%\n",
      "Validation loss improved: 0.6728 --> 0.6728. Saving checkpoint.\n",
      "Saved new best model to best_stress_model.pt\n",
      "\n",
      "Epoch 12/20\n"
     ]
    },
    {
     "name": "stderr",
     "output_type": "stream",
     "text": [
      "Train: 100%|██████████| 1578/1578 [00:45<00:00, 35.05it/s]\n",
      "Validate: 100%|██████████| 406/406 [00:05<00:00, 69.48it/s]\n"
     ]
    },
    {
     "name": "stdout",
     "output_type": "stream",
     "text": [
      "Train Loss: 0.7063 | Train Acc: 69.79%\n",
      "Val Loss:   0.6750 | Val Acc:   72.31%\n",
      "No improvement for 1 epochs...\n",
      "\n",
      "Epoch 13/20\n"
     ]
    },
    {
     "name": "stderr",
     "output_type": "stream",
     "text": [
      "Train: 100%|██████████| 1578/1578 [00:48<00:00, 32.81it/s]\n",
      "Validate: 100%|██████████| 406/406 [00:05<00:00, 70.59it/s]\n"
     ]
    },
    {
     "name": "stdout",
     "output_type": "stream",
     "text": [
      "Train Loss: 0.7069 | Train Acc: 69.72%\n",
      "Val Loss:   0.6683 | Val Acc:   72.56%\n",
      "Validation loss improved: 0.6728 --> 0.6683. Saving checkpoint.\n",
      "Saved new best model to best_stress_model.pt\n",
      "\n",
      "Epoch 14/20\n"
     ]
    },
    {
     "name": "stderr",
     "output_type": "stream",
     "text": [
      "Train: 100%|██████████| 1578/1578 [00:48<00:00, 32.82it/s]\n",
      "Validate: 100%|██████████| 406/406 [00:05<00:00, 69.65it/s]\n"
     ]
    },
    {
     "name": "stdout",
     "output_type": "stream",
     "text": [
      "Train Loss: 0.7046 | Train Acc: 69.79%\n",
      "Val Loss:   0.6683 | Val Acc:   72.62%\n",
      "No improvement for 1 epochs...\n",
      "\n",
      "Epoch 15/20\n"
     ]
    },
    {
     "name": "stderr",
     "output_type": "stream",
     "text": [
      "Train: 100%|██████████| 1578/1578 [00:48<00:00, 32.84it/s]\n",
      "Validate: 100%|██████████| 406/406 [00:05<00:00, 69.23it/s]\n"
     ]
    },
    {
     "name": "stdout",
     "output_type": "stream",
     "text": [
      "Train Loss: 0.7029 | Train Acc: 69.92%\n",
      "Val Loss:   0.6626 | Val Acc:   72.92%\n",
      "Validation loss improved: 0.6683 --> 0.6626. Saving checkpoint.\n",
      "Saved new best model to best_stress_model.pt\n",
      "\n",
      "Epoch 16/20\n"
     ]
    },
    {
     "name": "stderr",
     "output_type": "stream",
     "text": [
      "Train: 100%|██████████| 1578/1578 [00:47<00:00, 32.89it/s]\n",
      "Validate: 100%|██████████| 406/406 [00:05<00:00, 76.62it/s]\n"
     ]
    },
    {
     "name": "stdout",
     "output_type": "stream",
     "text": [
      "Train Loss: 0.7025 | Train Acc: 69.60%\n",
      "Val Loss:   0.6579 | Val Acc:   72.81%\n",
      "Validation loss improved: 0.6626 --> 0.6579. Saving checkpoint.\n",
      "Saved new best model to best_stress_model.pt\n",
      "\n",
      "Epoch 17/20\n"
     ]
    },
    {
     "name": "stderr",
     "output_type": "stream",
     "text": [
      "Train: 100%|██████████| 1578/1578 [00:41<00:00, 37.68it/s]\n",
      "Validate: 100%|██████████| 406/406 [00:05<00:00, 77.29it/s]\n"
     ]
    },
    {
     "name": "stdout",
     "output_type": "stream",
     "text": [
      "Train Loss: 0.6942 | Train Acc: 70.13%\n",
      "Val Loss:   0.6561 | Val Acc:   73.18%\n",
      "Validation loss improved: 0.6579 --> 0.6561. Saving checkpoint.\n",
      "Saved new best model to best_stress_model.pt\n",
      "\n",
      "Epoch 18/20\n"
     ]
    },
    {
     "name": "stderr",
     "output_type": "stream",
     "text": [
      "Train: 100%|██████████| 1578/1578 [00:42<00:00, 37.25it/s]\n",
      "Validate: 100%|██████████| 406/406 [00:05<00:00, 69.59it/s]\n"
     ]
    },
    {
     "name": "stdout",
     "output_type": "stream",
     "text": [
      "Train Loss: 0.6898 | Train Acc: 70.47%\n",
      "Val Loss:   0.6653 | Val Acc:   73.55%\n",
      "No improvement for 1 epochs...\n",
      "\n",
      "Epoch 19/20\n"
     ]
    },
    {
     "name": "stderr",
     "output_type": "stream",
     "text": [
      "Train: 100%|██████████| 1578/1578 [00:47<00:00, 32.99it/s]\n",
      "Validate: 100%|██████████| 406/406 [00:05<00:00, 68.63it/s]\n"
     ]
    },
    {
     "name": "stdout",
     "output_type": "stream",
     "text": [
      "Train Loss: 0.6851 | Train Acc: 70.91%\n",
      "Val Loss:   0.6357 | Val Acc:   74.01%\n",
      "Validation loss improved: 0.6561 --> 0.6357. Saving checkpoint.\n",
      "Saved new best model to best_stress_model.pt\n",
      "\n",
      "Epoch 20/20\n"
     ]
    },
    {
     "name": "stderr",
     "output_type": "stream",
     "text": [
      "Train: 100%|██████████| 1578/1578 [00:48<00:00, 32.79it/s]\n",
      "Validate: 100%|██████████| 406/406 [00:05<00:00, 67.69it/s]\n",
      "<ipython-input-102-0e92ad4ca55c>:192: FutureWarning: You are using `torch.load` with `weights_only=False` (the current default value), which uses the default pickle module implicitly. It is possible to construct malicious pickle data which will execute arbitrary code during unpickling (See https://github.com/pytorch/pytorch/blob/main/SECURITY.md#untrusted-models for more details). In a future release, the default value for `weights_only` will be flipped to `True`. This limits the functions that could be executed during unpickling. Arbitrary objects will no longer be allowed to be loaded via this mode unless they are explicitly allowlisted by the user via `torch.serialization.add_safe_globals`. We recommend you start setting `weights_only=True` for any use case where you don't have full control of the loaded file. Please open an issue on GitHub for any issues related to this experimental feature.\n",
      "  checkpoint = torch.load(self.checkpoint_path, map_location=self.device)\n"
     ]
    },
    {
     "name": "stdout",
     "output_type": "stream",
     "text": [
      "Train Loss: 0.6773 | Train Acc: 70.96%\n",
      "Val Loss:   0.6349 | Val Acc:   74.16%\n",
      "Validation loss improved: 0.6357 --> 0.6349. Saving checkpoint.\n",
      "Saved new best model to best_stress_model.pt\n",
      "\n",
      "Training finished. Loading best model...\n",
      "Loaded checkpoint from best_stress_model.pt. Resuming from epoch 21.\n",
      "Training plots saved to training_plot.png\n"
     ]
    },
    {
     "data": {
      "image/png": "[encoded data removed]",
      "text/plain": [
       "<Figure size 1200x500 with 2 Axes>"
      ]
     },
     "metadata": {},
     "output_type": "display_data"
    }
   ],
   "source": [
    "trainer = Trainer(\n",
    "    model=model,\n",
    "    train_loader=train_loader,\n",
    "    val_loader=val_loader,\n",
    "    device='cuda' if torch.cuda.is_available() else 'cpu',\n",
    "    lr=1e-3,\n",
    "    epochs=20,\n",
    "    patience=3,\n",
    "    checkpoint_path='best_stress_model.pt',\n",
    "    optimizer=optimizer,\n",
    "    scheduler=scheduler\n",
    ")\n",
    "\n",
    "trainer.train()"
   ]
  },
  {
   "cell_type": "markdown",
   "metadata": {},
   "source": [
    "Таким образом, видим, что LSTM показала наилучший результат.\n",
    "\n",
    "Что следует улучшить в будущем: векторизировать вычисления, поэксперементировать со структурой используемых моделей и параметрами."
   ]
  },
  {
   "cell_type": "markdown",
   "metadata": {},
   "source": [
    "# Предсказываем для test.csv"
   ]
  },
  {
   "cell_type": "markdown",
   "metadata": {},
   "source": [
    "Без дополнительных признаков"
   ]
  },
  {
   "cell_type": "code",
   "execution_count": null,
   "metadata": {
    "execution": {
     "iopub.execute_input": "2025-03-24T14:20:20.857368Z",
     "iopub.status.busy": "2025-03-24T14:20:20.856998Z",
     "iopub.status.idle": "2025-03-24T14:20:20.865366Z",
     "shell.execute_reply": "2025-03-24T14:20:20.864025Z",
     "shell.execute_reply.started": "2025-03-24T14:20:20.857337Z"
    },
    "trusted": true
   },
   "outputs": [],
   "source": [
    "def inference_and_save(trainer, test_loader, submission_path='/kaggle/working/submission.csv'):\n",
    "    trainer.model.eval()\n",
    "    predictions = []\n",
    "    ids = []\n",
    "\n",
    "    with torch.no_grad():\n",
    "        for (padded_word_tensors, padded_vowel_masks, lengths), batch_ids in tqdm(test_loader, desc='Inferencing'):\n",
    "            padded_word_tensors = padded_word_tensors.to(trainer.device)\n",
    "            padded_vowel_masks = padded_vowel_masks.to(trainer.device)\n",
    "            lengths = lengths.to(trainer.device)\n",
    "\n",
    "            # список логитов по гласным\n",
    "            logits_list = trainer.model((padded_word_tensors, padded_vowel_masks, lengths))\n",
    "\n",
    "            batch_size = len(logits_list)\n",
    "\n",
    "            for i in range(batch_size):\n",
    "                logits_vowels = logits_list[i]\n",
    "\n",
    "                pred_vowel_index = logits_vowels.argmax().item()\n",
    "                stress_syllable = pred_vowel_index + 1      # 1-based номер слога\n",
    "\n",
    "                predictions.append(stress_syllable)\n",
    "                ids.append(batch_ids[i])\n",
    "\n",
    "    submission_df = pd.DataFrame({\n",
    "        'id': ids,\n",
    "        'stress': predictions\n",
    "    })\n",
    "\n",
    "    submission_df.sort_values('id', inplace=True)\n",
    "    submission_df.reset_index(drop=True, inplace=True)\n",
    "\n",
    "    submission_df.to_csv(submission_path, index=False)\n",
    "    print(f\"Submission saved to {submission_path}\")"
   ]
  },
  {
   "cell_type": "code",
   "execution_count": 81,
   "metadata": {
    "execution": {
     "iopub.execute_input": "2025-03-24T12:58:21.330653Z",
     "iopub.status.busy": "2025-03-24T12:58:21.330338Z",
     "iopub.status.idle": "2025-03-24T12:58:33.376132Z",
     "shell.execute_reply": "2025-03-24T12:58:33.375297Z",
     "shell.execute_reply.started": "2025-03-24T12:58:21.330630Z"
    },
    "trusted": true
   },
   "outputs": [
    {
     "name": "stderr",
     "output_type": "stream",
     "text": [
      "Inferencing: 100%|██████████| 937/937 [00:11<00:00, 78.10it/s]\n"
     ]
    },
    {
     "name": "stdout",
     "output_type": "stream",
     "text": [
      " Submission saved to submission.csv\n"
     ]
    }
   ],
   "source": [
    "inference_and_save(trainer, test_loader, submission_path='submission.csv')"
   ]
  },
  {
   "cell_type": "markdown",
   "metadata": {},
   "source": [
    "С дополнительными признаками"
   ]
  },
  {
   "cell_type": "code",
   "execution_count": null,
   "metadata": {
    "execution": {
     "iopub.execute_input": "2025-03-24T13:54:38.609809Z",
     "iopub.status.busy": "2025-03-24T13:54:38.609444Z",
     "iopub.status.idle": "2025-03-24T13:54:38.617671Z",
     "shell.execute_reply": "2025-03-24T13:54:38.616917Z",
     "shell.execute_reply.started": "2025-03-24T13:54:38.609781Z"
    },
    "trusted": true
   },
   "outputs": [],
   "source": [
    "def inference_and_save_2(trainer, test_loader, submission_path='/kaggle/working/submission.csv'):\n",
    "    trainer.model.eval()\n",
    "    predictions = []\n",
    "    ids = []\n",
    "\n",
    "    with torch.no_grad():\n",
    "        for (padded_word_tensors, padded_vowel_masks, lengths, norm_char_pos, norm_vowel_pos), batch_ids in tqdm(test_loader, desc='Inferencing'):\n",
    "\n",
    "            padded_word_tensors = padded_word_tensors.to(trainer.device)\n",
    "            padded_vowel_masks = padded_vowel_masks.to(trainer.device)\n",
    "            lengths = lengths.to(trainer.device)\n",
    "            norm_char_pos = norm_char_pos.to(trainer.device)\n",
    "            norm_vowel_pos = norm_vowel_pos.to(trainer.device)\n",
    "\n",
    "            logits_list = trainer.model((\n",
    "                padded_word_tensors, \n",
    "                padded_vowel_masks, \n",
    "                lengths, \n",
    "                norm_char_pos, \n",
    "                norm_vowel_pos\n",
    "            ))\n",
    "\n",
    "            batch_size = len(logits_list)\n",
    "\n",
    "            for i in range(batch_size):\n",
    "                logits_vowels = logits_list[i]\n",
    "                pred_vowel_index = logits_vowels.argmax().item()\n",
    "                stress_syllable = pred_vowel_index + 1\n",
    "\n",
    "                predictions.append(stress_syllable)\n",
    "                ids.append(batch_ids[i])\n",
    "\n",
    "    submission_df = pd.DataFrame({\n",
    "        'id': ids,\n",
    "        'stress': predictions\n",
    "    })\n",
    "\n",
    "    submission_df.sort_values('id', inplace=True)\n",
    "    submission_df.reset_index(drop=True, inplace=True)\n",
    "\n",
    "    submission_df.to_csv(submission_path, index=False)\n",
    "    print(f\" Submission saved to {submission_path}\")"
   ]
  },
  {
   "cell_type": "code",
   "execution_count": 93,
   "metadata": {
    "execution": {
     "iopub.execute_input": "2025-03-24T13:54:41.710922Z",
     "iopub.status.busy": "2025-03-24T13:54:41.710552Z",
     "iopub.status.idle": "2025-03-24T13:54:54.769032Z",
     "shell.execute_reply": "2025-03-24T13:54:54.768004Z",
     "shell.execute_reply.started": "2025-03-24T13:54:41.710891Z"
    },
    "trusted": true
   },
   "outputs": [
    {
     "name": "stderr",
     "output_type": "stream",
     "text": [
      "Inferencing: 100%|██████████| 937/937 [00:13<00:00, 72.00it/s]"
     ]
    },
    {
     "name": "stdout",
     "output_type": "stream",
     "text": [
      " Submission saved to submission.csv\n"
     ]
    },
    {
     "name": "stderr",
     "output_type": "stream",
     "text": [
      "\n"
     ]
    }
   ],
   "source": [
    "inference_and_save_2(trainer, test_loader, submission_path='submission.csv')"
   ]
  },
  {
   "cell_type": "code",
   "execution_count": 82,
   "metadata": {
    "execution": {
     "iopub.execute_input": "2025-03-24T12:58:39.671563Z",
     "iopub.status.busy": "2025-03-24T12:58:39.671233Z",
     "iopub.status.idle": "2025-03-24T12:58:39.693684Z",
     "shell.execute_reply": "2025-03-24T12:58:39.692663Z",
     "shell.execute_reply.started": "2025-03-24T12:58:39.671536Z"
    },
    "trusted": true
   },
   "outputs": [
    {
     "name": "stdout",
     "output_type": "stream",
     "text": [
      "[3 2 1 4 5 6]\n"
     ]
    },
    {
     "data": {
      "text/html": [
       "<div>\n",
       "<style scoped>\n",
       "    .dataframe tbody tr th:only-of-type {\n",
       "        vertical-align: middle;\n",
       "    }\n",
       "\n",
       "    .dataframe tbody tr th {\n",
       "        vertical-align: top;\n",
       "    }\n",
       "\n",
       "    .dataframe thead th {\n",
       "        text-align: right;\n",
       "    }\n",
       "</style>\n",
       "<table border=\"1\" class=\"dataframe\">\n",
       "  <thead>\n",
       "    <tr style=\"text-align: right;\">\n",
       "      <th></th>\n",
       "      <th>id</th>\n",
       "      <th>stress</th>\n",
       "    </tr>\n",
       "  </thead>\n",
       "  <tbody>\n",
       "    <tr>\n",
       "      <th>0</th>\n",
       "      <td>0</td>\n",
       "      <td>3</td>\n",
       "    </tr>\n",
       "    <tr>\n",
       "      <th>1</th>\n",
       "      <td>1</td>\n",
       "      <td>3</td>\n",
       "    </tr>\n",
       "    <tr>\n",
       "      <th>2</th>\n",
       "      <td>2</td>\n",
       "      <td>3</td>\n",
       "    </tr>\n",
       "    <tr>\n",
       "      <th>3</th>\n",
       "      <td>3</td>\n",
       "      <td>2</td>\n",
       "    </tr>\n",
       "    <tr>\n",
       "      <th>4</th>\n",
       "      <td>4</td>\n",
       "      <td>1</td>\n",
       "    </tr>\n",
       "  </tbody>\n",
       "</table>\n",
       "</div>"
      ],
      "text/plain": [
       "   id  stress\n",
       "0   0       3\n",
       "1   1       3\n",
       "2   2       3\n",
       "3   3       2\n",
       "4   4       1"
      ]
     },
     "execution_count": 82,
     "metadata": {},
     "output_type": "execute_result"
    }
   ],
   "source": [
    "sub = pd.read_csv('/kaggle/working/submission.csv')\n",
    "print(sub['stress'].unique())\n",
    "sub.head(5)"
   ]
  },
  {
   "cell_type": "code",
   "execution_count": 31,
   "metadata": {
    "execution": {
     "iopub.execute_input": "2025-03-24T10:42:34.306899Z",
     "iopub.status.busy": "2025-03-24T10:42:34.306607Z",
     "iopub.status.idle": "2025-03-24T10:42:34.352428Z",
     "shell.execute_reply": "2025-03-24T10:42:34.351576Z",
     "shell.execute_reply.started": "2025-03-24T10:42:34.306873Z"
    },
    "trusted": true
   },
   "outputs": [
    {
     "data": {
      "text/html": [
       "<div>\n",
       "<style scoped>\n",
       "    .dataframe tbody tr th:only-of-type {\n",
       "        vertical-align: middle;\n",
       "    }\n",
       "\n",
       "    .dataframe tbody tr th {\n",
       "        vertical-align: top;\n",
       "    }\n",
       "\n",
       "    .dataframe thead th {\n",
       "        text-align: right;\n",
       "    }\n",
       "</style>\n",
       "<table border=\"1\" class=\"dataframe\">\n",
       "  <thead>\n",
       "    <tr style=\"text-align: right;\">\n",
       "      <th></th>\n",
       "      <th>id</th>\n",
       "      <th>stress</th>\n",
       "    </tr>\n",
       "  </thead>\n",
       "  <tbody>\n",
       "    <tr>\n",
       "      <th>0</th>\n",
       "      <td>0</td>\n",
       "      <td>1</td>\n",
       "    </tr>\n",
       "    <tr>\n",
       "      <th>1</th>\n",
       "      <td>1</td>\n",
       "      <td>1</td>\n",
       "    </tr>\n",
       "    <tr>\n",
       "      <th>2</th>\n",
       "      <td>2</td>\n",
       "      <td>1</td>\n",
       "    </tr>\n",
       "    <tr>\n",
       "      <th>3</th>\n",
       "      <td>3</td>\n",
       "      <td>1</td>\n",
       "    </tr>\n",
       "    <tr>\n",
       "      <th>4</th>\n",
       "      <td>4</td>\n",
       "      <td>1</td>\n",
       "    </tr>\n",
       "    <tr>\n",
       "      <th>...</th>\n",
       "      <td>...</td>\n",
       "      <td>...</td>\n",
       "    </tr>\n",
       "    <tr>\n",
       "      <th>29955</th>\n",
       "      <td>29955</td>\n",
       "      <td>1</td>\n",
       "    </tr>\n",
       "    <tr>\n",
       "      <th>29956</th>\n",
       "      <td>29956</td>\n",
       "      <td>1</td>\n",
       "    </tr>\n",
       "    <tr>\n",
       "      <th>29957</th>\n",
       "      <td>29957</td>\n",
       "      <td>1</td>\n",
       "    </tr>\n",
       "    <tr>\n",
       "      <th>29958</th>\n",
       "      <td>29958</td>\n",
       "      <td>1</td>\n",
       "    </tr>\n",
       "    <tr>\n",
       "      <th>29959</th>\n",
       "      <td>29959</td>\n",
       "      <td>1</td>\n",
       "    </tr>\n",
       "  </tbody>\n",
       "</table>\n",
       "<p>29960 rows × 2 columns</p>\n",
       "</div>"
      ],
      "text/plain": [
       "          id  stress\n",
       "0          0       1\n",
       "1          1       1\n",
       "2          2       1\n",
       "3          3       1\n",
       "4          4       1\n",
       "...      ...     ...\n",
       "29955  29955       1\n",
       "29956  29956       1\n",
       "29957  29957       1\n",
       "29958  29958       1\n",
       "29959  29959       1\n",
       "\n",
       "[29960 rows x 2 columns]"
      ]
     },
     "execution_count": 31,
     "metadata": {},
     "output_type": "execute_result"
    }
   ],
   "source": [
    "sample = pd.read_csv('/kaggle/input/silero-stress-predictor/sample_submission.csv')\n",
    "sample"
   ]
  }
 ],
 "metadata": {
  "kaggle": {
   "accelerator": "nvidiaTeslaT4",
   "dataSources": [
    {
     "databundleVersionId": 4589860,
     "isSourceIdPinned": false,
     "sourceId": 42349,
     "sourceType": "competition"
    }
   ],
   "dockerImageVersionId": 30919,
   "isGpuEnabled": true,
   "isInternetEnabled": true,
   "language": "python",
   "sourceType": "notebook"
  },
  "kernelspec": {
   "display_name": "Python 3",
   "language": "python",
   "name": "python3"
  },
  "language_info": {
   "codemirror_mode": {
    "name": "ipython",
    "version": 3
   },
   "file_extension": ".py",
   "mimetype": "text/x-python",
   "name": "python",
   "nbconvert_exporter": "python",
   "pygments_lexer": "ipython3",
   "version": "3.10.12"
  }
 },
 "nbformat": 4,
 "nbformat_minor": 4
}
